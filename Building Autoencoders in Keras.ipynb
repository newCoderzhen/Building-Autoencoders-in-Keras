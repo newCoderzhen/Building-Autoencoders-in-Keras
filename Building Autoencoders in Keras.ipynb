{
 "cells": [
  {
   "cell_type": "markdown",
   "metadata": {},
   "source": [
    "# 利用Keras构建自动编码器\n",
    "我们在这份学习指南中将回答有关`自动编码器`的一些常见问题，除此之外，我们也会给出下述模型的代码示例：\n",
    "* 基于全连接层的简单自动编码器\n",
    "* 稀疏自动编码器\n",
    "* 深度全连接自动编码器\n",
    "* 深度卷积自动编码器\n",
    "* 图像降噪模型\n",
    "* 序列到序列的自动编码器\n",
    "* 变分自动编码器 \n",
    "\n",
    "**注意：所有的代码示例已经在2017年3月14日更新到了Keras 2.0接口。你需要在Keras 2.0.0以及更高的版本下运行他们，本文所采用的环境为Keras 2.3.1。**   \n",
    "\n",
    "## 什么是自动编码器？\n",
    "![简单全连接自动编码器示例图](https://blog.keras.io/img/ae/autoencoder_schema.jpg)\n",
    "\n",
    "\\begin{equation*}\n",
    "\\textrm{原始输入}  \\longrightarrow \\textrm{编码} \\longrightarrow \\textrm{压缩表示} \\longrightarrow \\textrm{解码} \\longrightarrow \\textrm{重构后的输入}\n",
    "\\end{equation*}\n",
    "`自动编码器`是一种数据压缩算法，其中，压缩和解压函数具有以下三条特性：\n",
    "* 1. 数据相关的。   \n",
    "* 2. 有损的。\n",
    "* 3. 自动地从样本中进行学习而不是通过人工特征工程进行特征提取。   \n",
    "\n",
    "此外，我们不难发现，几乎在所有自动编码器这个词出现过的文章中，压缩和解压功能的实现都是通过神经网络来完成的。\n",
    "* 1. 自动编码器是数据相关的，这意味着我们只可以压缩成和训练数据类似的数据。自编码器与一些压缩算法，如MPEG-2，MP3等压缩算法不同，这些算法只假设了数据是“图像”或“声音”，而没有指定是哪种图像或声音。如果我们使用自动编码器对人脸图像进行压缩，那么若用此模型对大树的图片进行压缩其表现会很差，因为自动编码器所学习到的特征是人脸所独有的。\n",
    "* 2. 自动编码器是有损的，这意味着模型的解压输出没有其原始输入那么清晰，这一点区别于无损压缩算法，而与MP3或者JPEG等压缩算法相类似。\n",
    "* 3. 自动编码器具有一个非常有用的特性，其可以自动地从数据样本中学习：这意味着很容易对指定类的输入训练出一种特定的编码器，而不需要其它新的工作。\n",
    "\n",
    "为了搭建一个自动编码器，你需要以下三大工具：编码器，解码器，损失函数（用以衡量由于压缩而损失掉的信息）。编码器和解码器是关于损失函数可微的参数化方程，通常情况下用神经网络表示。由于其可微，我们可以使用随机梯度下降法优化编码器以及解码器以最小化损失函数。这个过程是非常简单的，你甚至不需要理解这些步骤也可以在实际中使用自动编码器。\n",
    "\n",
    "## 自动编码器是一个好的数据压缩算法吗？\n",
    "通常情况下，这个问题的答案是否定的。例如在图片压缩过程中，很难训练出一个自动编码器和JPEG等基础图片压缩算法相媲美。如果你想达到JPEG的压缩水平，就必须要把图片的类型限定在一个很小的范围内（例如JPEG压缩效果不好的某类图片）。自动编码器的数据相关性导致它们并不适用于现实生活中的数据压缩问题，你只可以将自动编码器应用在与训练数据相类似的数据集上，若你想提高模型的普适性，那么你需要准备大量的训练数据。但谁又知道未来算法的改进能否对这些情况做出改善呢。\n",
    "\n",
    "## 自动编码器擅长做什么？\n",
    "自动编码器很少应用于实际生活中。2012年人们发现在卷积神经网络中使用自编码器做逐层预训练可以训练深层网络[1]，但这个方法很快遭到了淘汰，因为人们发现随机权重初始化方案相比于自动编码器对于训练深层网络有效的多。在2014年，`批量标准化(batch normalization)`[2]开始应用在深度学习中。到2015年底，我们可以使用`残差学习(residual learning)`训练任意深度的神经网络[3]。    \n",
    "目前，自动编码器在`数据降噪`（后文中将会提到）以及`数据降维可视化`方面取得有趣的实际应用。配合适当的维度和稀疏约束，自编码器可以学习到比PCA等技术更有意思的从高维空间到低维空间的数据投影。    \n",
    "对于2维数据可视化，[t-SNE](https://www.jianshu.com/p/8c20b975a174)(发音读作 \"tee-snee\") 可能是目前最好的算法，但它通常需要相对低维的原始数据。所以利用自动编码器首先将原始数据压缩到低维空间（例如32维），然后用t-SNE流形学习降维算法将压缩后的数据投影到二维平面以观察其在高维空间中的相似性不失为一个好的方法。**注意：在Keras中已收录由Kyle McDonald开发的[参数化t-SNE实现](https://github.com/kylemcdonald/Parametric-t-SNE/blob/master/Parametric%20t-SNE%20(Keras).ipynb)，另外[scikit-learn](https://scikit-learn.org/stable/modules/generated/sklearn.manifold.TSNE.html)也有一个简单实用的实现。**\n",
    "\n",
    "## 所以自动编码器最大的用处是什么呢？\n",
    "自编码器的出名来自于网上很多机器学习课程的介绍。最终，很多刚步入这个领域的新手对自动编码器爱不释手，这也是本篇学习指南存在的原因！    \n",
    "除此之外，自动编码器能够吸引了足够多研究和关注的其中一个原因是因为该算法一直被认为是解决无监督学习的潜在解决方案，例如不需要标签便可以学习到数据有用的表示方法。其次，自动编码器不是一个真正的无监督学习算法，这意味着其与无监督学习算法有着不同的学习过程。自动编码器是`自监督学习算法`（无监督学习算法中标签源于输入数据的一种实例）。为了让自监督学习模型学习到有用的特征，你需要设定学习目标以及损失函数，而这也是问题的根源，仅仅把目标设定为重构输入可能不是正确的选项。有充足的证据证明机器学习模型能学习到高级的抽象特征(类比于人类“发明”的抽象概念例如“狗”，“猫”等等)，但是不能在像素级上精确重构输入。事实上，当你的主要任务是分类、定位之类的任务时，对这类任务而言的最好的特征基本上都是重构输入时的最差的那些特征。    \n",
    "在应用自监督学习的视觉问题中，可能应用自动编码器的领域有例如拼图，细节纹理匹配（从低分辨率的图像块中匹配其高分辨率的对应块）。下面这篇文章研究了拼图问题，其实很有意思，不妨一读。 [Noroozi and Favaro (2016) Unsupervised Learning of Visual Representations by Solving Jigsaw Puzzles](https://arxiv.org/abs/1603.09246)。此类问题的模型输入有些内置的假设，例如“视觉块比像素级的细节更重要”等，这种假设是普通的自编码器没有的。\n",
    "![拼图示例](https://blog.keras.io/img/ae/jigsaw-puzzle.png)\n",
    "\n",
    "## 让我们构建最简单的自动编码器\n",
    "我们先给出一个简单示例，该自动编码器只有一个全连接层充当编码器以及解码器的角色："
   ]
  },
  {
   "cell_type": "code",
   "execution_count": 87,
   "metadata": {},
   "outputs": [],
   "source": [
    "from keras.layers import Input, Dense\n",
    "from keras.models import Model\n",
    "\n",
    "# 这是我们编码器的大小\n",
    "encoding_dim = 32  # 压缩为32个浮点数 -> 当输入为784个浮点数时，压缩率为24.5（784/32=24.5）\n",
    "\n",
    "# 这是我们的输入层，神经元个数等于输入图像的维度\n",
    "input_img_1 = Input(shape=(784,))\n",
    "# \"encoded\" 是输入数据的编码表示\n",
    "encoded_1 = Dense(encoding_dim, activation='relu')(input_img_1)\n",
    "# \"decoded\" 是输入的有损重构\n",
    "decoded_1 = Dense(784, activation='sigmoid')(encoded_1)\n",
    "\n",
    "# 这个模型将一个输入映射到它的重构中\n",
    "autoencoder_1 = Model(input_img_1, decoded_1)"
   ]
  },
  {
   "cell_type": "markdown",
   "metadata": {},
   "source": [
    "我们也单独创建一个编码器："
   ]
  },
  {
   "cell_type": "code",
   "execution_count": 2,
   "metadata": {},
   "outputs": [],
   "source": [
    "# 这个模型将一个输入映射到它的编码表示中\n",
    "encoder_1 = Model(input_img_1, encoded_1)"
   ]
  },
  {
   "cell_type": "markdown",
   "metadata": {},
   "source": [
    "同样我们也单独创建一个解码器："
   ]
  },
  {
   "cell_type": "code",
   "execution_count": 3,
   "metadata": {},
   "outputs": [],
   "source": [
    "# 将已编码的结果输入到解码器中\n",
    "decoded_input_1 = Input(shape=(encoding_dim,))\n",
    "# 获取自编码器的最后一层\n",
    "decoder_layer_1 = autoencoder_1.layers[-1]\n",
    "# 创建解码器\n",
    "decoder_1 = Model(decoded_input_1, decoder_layer_1(decoded_input_1))"
   ]
  },
  {
   "cell_type": "markdown",
   "metadata": {},
   "source": [
    "现在我们在MNIST数据集上训练我们的模型，将手写数字图片进行重构。    \n",
    "首先我们设定模型的损失函数为`binary crossentropy loss`，优化器为`Adadelta `"
   ]
  },
  {
   "cell_type": "code",
   "execution_count": 4,
   "metadata": {},
   "outputs": [],
   "source": [
    "autoencoder_1.compile(optimizer='adadelta', loss='binary_crossentropy')"
   ]
  },
  {
   "cell_type": "markdown",
   "metadata": {},
   "source": [
    "让我们准备我们的输入数据。我们在MNIST数据集上训练模型，并把数据集的标签全部丢掉（因为我们仅仅对输入图像的编码以及解码过程感兴趣）。"
   ]
  },
  {
   "cell_type": "code",
   "execution_count": 5,
   "metadata": {},
   "outputs": [],
   "source": [
    "from keras.datasets import mnist\n",
    "import numpy as np\n",
    "(x_train, _), (x_test, _) = mnist.load_data()"
   ]
  },
  {
   "cell_type": "markdown",
   "metadata": {},
   "source": [
    "我们将图片矩阵数值归一化到0-1之间，并且把28\\*28的图片矩阵拉伸为一个长度为784的向量。"
   ]
  },
  {
   "cell_type": "code",
   "execution_count": 6,
   "metadata": {},
   "outputs": [
    {
     "name": "stdout",
     "output_type": "stream",
     "text": [
      "(60000, 784)\n",
      "(10000, 784)\n"
     ]
    }
   ],
   "source": [
    "(x_train, y_train), (x_test, y_test) = mnist.load_data()                      # mnist手写数字数据集导入\n",
    "x_train = x_train.astype('float32') / 255.                                    # 归一化\n",
    "x_test = x_test.astype('float32') / 255.                                      # 归一化\n",
    "x_train = x_train.reshape((len(x_train), np.prod(x_train.shape[1:])))         # 图片28*28转为1*784\n",
    "x_test = x_test.reshape((len(x_test), np.prod(x_test.shape[1:])))             # 图片28*28转为1*784\n",
    "print(x_train.shape)  \n",
    "print(x_test.shape)"
   ]
  },
  {
   "cell_type": "markdown",
   "metadata": {},
   "source": [
    "* `numpy.prod()`函数是**连乘**操作，将里面所有的元素相乘，示例如下：  \n",
    "```python\n",
    "In[1]:  import numpy as np\n",
    "          a = np.array([1,2,3,4])\n",
    "          print(np.prod(a))   \n",
    "Out[1]: 24\n",
    "```"
   ]
  },
  {
   "cell_type": "markdown",
   "metadata": {},
   "source": [
    "现在开始训练我们的自动编码器并训练50轮："
   ]
  },
  {
   "cell_type": "code",
   "execution_count": 7,
   "metadata": {
    "scrolled": true
   },
   "outputs": [
    {
     "name": "stdout",
     "output_type": "stream",
     "text": [
      "Model: \"model_1\"\n",
      "_________________________________________________________________\n",
      "Layer (type)                 Output Shape              Param #   \n",
      "=================================================================\n",
      "input_1 (InputLayer)         (None, 784)               0         \n",
      "_________________________________________________________________\n",
      "dense_1 (Dense)              (None, 32)                25120     \n",
      "_________________________________________________________________\n",
      "dense_2 (Dense)              (None, 784)               25872     \n",
      "=================================================================\n",
      "Total params: 50,992\n",
      "Trainable params: 50,992\n",
      "Non-trainable params: 0\n",
      "_________________________________________________________________\n",
      "Train on 60000 samples, validate on 10000 samples\n",
      "Epoch 1/100\n",
      "60000/60000 [==============================] - 4s 62us/step - loss: 0.3548 - val_loss: 0.2714\n",
      "Epoch 2/100\n",
      "60000/60000 [==============================] - 3s 52us/step - loss: 0.2649 - val_loss: 0.2550\n",
      "Epoch 3/100\n",
      "60000/60000 [==============================] - 3s 58us/step - loss: 0.2452 - val_loss: 0.2328\n",
      "Epoch 4/100\n",
      "60000/60000 [==============================] - 3s 55us/step - loss: 0.2237 - val_loss: 0.2129\n",
      "Epoch 5/100\n",
      "60000/60000 [==============================] - 4s 61us/step - loss: 0.2072 - val_loss: 0.1994\n",
      "Epoch 6/100\n",
      "60000/60000 [==============================] - 3s 54us/step - loss: 0.1960 - val_loss: 0.1900\n",
      "Epoch 7/100\n",
      "60000/60000 [==============================] - 3s 43us/step - loss: 0.1877 - val_loss: 0.1827\n",
      "Epoch 8/100\n",
      "60000/60000 [==============================] - 3s 49us/step - loss: 0.1808 - val_loss: 0.1762\n",
      "Epoch 9/100\n",
      "60000/60000 [==============================] - 4s 62us/step - loss: 0.1748 - val_loss: 0.1707\n",
      "Epoch 10/100\n",
      "60000/60000 [==============================] - 4s 66us/step - loss: 0.1695 - val_loss: 0.1657\n",
      "Epoch 11/100\n",
      "60000/60000 [==============================] - 3s 53us/step - loss: 0.1650 - val_loss: 0.1614\n",
      "Epoch 12/100\n",
      "60000/60000 [==============================] - 3s 48us/step - loss: 0.1609 - val_loss: 0.1577\n",
      "Epoch 13/100\n",
      "60000/60000 [==============================] - 3s 46us/step - loss: 0.1572 - val_loss: 0.1541\n",
      "Epoch 14/100\n",
      "60000/60000 [==============================] - 3s 50us/step - loss: 0.1539 - val_loss: 0.1509\n",
      "Epoch 15/100\n",
      "60000/60000 [==============================] - 4s 58us/step - loss: 0.1507 - val_loss: 0.1477\n",
      "Epoch 16/100\n",
      "60000/60000 [==============================] - 3s 46us/step - loss: 0.1477 - val_loss: 0.1448\n",
      "Epoch 17/100\n",
      "60000/60000 [==============================] - 3s 50us/step - loss: 0.1449 - val_loss: 0.1421\n",
      "Epoch 18/100\n",
      "60000/60000 [==============================] - 4s 64us/step - loss: 0.1422 - val_loss: 0.1394\n",
      "Epoch 19/100\n",
      "60000/60000 [==============================] - 4s 66us/step - loss: 0.1396 - val_loss: 0.1368\n",
      "Epoch 20/100\n",
      "60000/60000 [==============================] - 3s 52us/step - loss: 0.1372 - val_loss: 0.1345\n",
      "Epoch 21/100\n",
      "60000/60000 [==============================] - 3s 53us/step - loss: 0.1349 - val_loss: 0.1323\n",
      "Epoch 22/100\n",
      "60000/60000 [==============================] - 2s 39us/step - loss: 0.1327 - val_loss: 0.1302\n",
      "Epoch 23/100\n",
      "60000/60000 [==============================] - 3s 56us/step - loss: 0.1307 - val_loss: 0.1281\n",
      "Epoch 24/100\n",
      "60000/60000 [==============================] - 4s 61us/step - loss: 0.1288 - val_loss: 0.1262\n",
      "Epoch 25/100\n",
      "60000/60000 [==============================] - 3s 54us/step - loss: 0.1269 - val_loss: 0.1244\n",
      "Epoch 26/100\n",
      "60000/60000 [==============================] - 3s 58us/step - loss: 0.1252 - val_loss: 0.1228\n",
      "Epoch 27/100\n",
      "60000/60000 [==============================] - 3s 52us/step - loss: 0.1236 - val_loss: 0.1212\n",
      "Epoch 28/100\n",
      "60000/60000 [==============================] - 3s 48us/step - loss: 0.1220 - val_loss: 0.1196\n",
      "Epoch 29/100\n",
      "60000/60000 [==============================] - 3s 45us/step - loss: 0.1205 - val_loss: 0.1182\n",
      "Epoch 30/100\n",
      "60000/60000 [==============================] - 3s 53us/step - loss: 0.1192 - val_loss: 0.1168\n",
      "Epoch 31/100\n",
      "60000/60000 [==============================] - 3s 43us/step - loss: 0.1179 - val_loss: 0.1156\n",
      "Epoch 32/100\n",
      "60000/60000 [==============================] - 3s 48us/step - loss: 0.1166 - val_loss: 0.1144\n",
      "Epoch 33/100\n",
      "60000/60000 [==============================] - 3s 57us/step - loss: 0.1155 - val_loss: 0.1133\n",
      "Epoch 34/100\n",
      "60000/60000 [==============================] - 3s 54us/step - loss: 0.1144 - val_loss: 0.1123\n",
      "Epoch 35/100\n",
      "60000/60000 [==============================] - 3s 57us/step - loss: 0.1134 - val_loss: 0.1113\n",
      "Epoch 36/100\n",
      "60000/60000 [==============================] - 3s 52us/step - loss: 0.1125 - val_loss: 0.1104\n",
      "Epoch 37/100\n",
      "60000/60000 [==============================] - 4s 64us/step - loss: 0.1116 - val_loss: 0.1095\n",
      "Epoch 38/100\n",
      "60000/60000 [==============================] - 4s 59us/step - loss: 0.1108 - val_loss: 0.1087\n",
      "Epoch 39/100\n",
      "60000/60000 [==============================] - 3s 53us/step - loss: 0.1100 - val_loss: 0.1080\n",
      "Epoch 40/100\n",
      "60000/60000 [==============================] - 3s 53us/step - loss: 0.1093 - val_loss: 0.1073\n",
      "Epoch 41/100\n",
      "60000/60000 [==============================] - 3s 49us/step - loss: 0.1086 - val_loss: 0.1066\n",
      "Epoch 42/100\n",
      "60000/60000 [==============================] - 3s 51us/step - loss: 0.1080 - val_loss: 0.1060\n",
      "Epoch 43/100\n",
      "60000/60000 [==============================] - 3s 48us/step - loss: 0.1074 - val_loss: 0.1054\n",
      "Epoch 44/100\n",
      "60000/60000 [==============================] - 3s 51us/step - loss: 0.1068 - val_loss: 0.1049\n",
      "Epoch 45/100\n",
      "60000/60000 [==============================] - 3s 56us/step - loss: 0.1063 - val_loss: 0.1044\n",
      "Epoch 46/100\n",
      "60000/60000 [==============================] - 4s 68us/step - loss: 0.1058 - val_loss: 0.1040\n",
      "Epoch 47/100\n",
      "60000/60000 [==============================] - 3s 50us/step - loss: 0.1054 - val_loss: 0.1035\n",
      "Epoch 48/100\n",
      "60000/60000 [==============================] - 3s 42us/step - loss: 0.1049 - val_loss: 0.1031\n",
      "Epoch 49/100\n",
      "60000/60000 [==============================] - 3s 57us/step - loss: 0.1045 - val_loss: 0.1027\n",
      "Epoch 50/100\n",
      "60000/60000 [==============================] - 5s 83us/step - loss: 0.1042 - val_loss: 0.1024\n",
      "Epoch 51/100\n",
      "60000/60000 [==============================] - 3s 57us/step - loss: 0.1038 - val_loss: 0.1020\n",
      "Epoch 52/100\n",
      "60000/60000 [==============================] - 3s 51us/step - loss: 0.1035 - val_loss: 0.1017\n",
      "Epoch 53/100\n",
      "60000/60000 [==============================] - 3s 50us/step - loss: 0.1032 - val_loss: 0.1014\n",
      "Epoch 54/100\n",
      "60000/60000 [==============================] - 3s 50us/step - loss: 0.1029 - val_loss: 0.1011\n",
      "Epoch 55/100\n",
      "60000/60000 [==============================] - 3s 48us/step - loss: 0.1026 - val_loss: 0.1009\n",
      "Epoch 56/100\n",
      "60000/60000 [==============================] - 3s 48us/step - loss: 0.1024 - val_loss: 0.1006\n",
      "Epoch 57/100\n",
      "60000/60000 [==============================] - 3s 49us/step - loss: 0.1021 - val_loss: 0.1004\n",
      "Epoch 58/100\n",
      "60000/60000 [==============================] - 3s 48us/step - loss: 0.1019 - val_loss: 0.1002\n",
      "Epoch 59/100\n",
      "60000/60000 [==============================] - 3s 48us/step - loss: 0.1017 - val_loss: 0.1000\n",
      "Epoch 60/100\n",
      "60000/60000 [==============================] - 3s 49us/step - loss: 0.1015 - val_loss: 0.0998\n",
      "Epoch 61/100\n",
      "60000/60000 [==============================] - 3s 48us/step - loss: 0.1013 - val_loss: 0.0996\n",
      "Epoch 62/100\n",
      "60000/60000 [==============================] - 3s 49us/step - loss: 0.1011 - val_loss: 0.0994\n",
      "Epoch 63/100\n",
      "60000/60000 [==============================] - 3s 48us/step - loss: 0.1010 - val_loss: 0.0993\n",
      "Epoch 64/100\n",
      "60000/60000 [==============================] - 3s 48us/step - loss: 0.1008 - val_loss: 0.0992\n",
      "Epoch 65/100\n",
      "60000/60000 [==============================] - 3s 49us/step - loss: 0.1007 - val_loss: 0.0990\n",
      "Epoch 66/100\n",
      "60000/60000 [==============================] - 4s 67us/step - loss: 0.1005 - val_loss: 0.0989\n",
      "Epoch 67/100\n",
      "60000/60000 [==============================] - 4s 65us/step - loss: 0.1004 - val_loss: 0.0987\n",
      "Epoch 68/100\n",
      "60000/60000 [==============================] - 4s 60us/step - loss: 0.1003 - val_loss: 0.0986\n",
      "Epoch 69/100\n",
      "60000/60000 [==============================] - 3s 56us/step - loss: 0.1002 - val_loss: 0.0985\n",
      "Epoch 70/100\n"
     ]
    },
    {
     "name": "stdout",
     "output_type": "stream",
     "text": [
      "60000/60000 [==============================] - 4s 61us/step - loss: 0.1000 - val_loss: 0.0984\n",
      "Epoch 71/100\n",
      "60000/60000 [==============================] - 3s 56us/step - loss: 0.0999 - val_loss: 0.0983\n",
      "Epoch 72/100\n",
      "60000/60000 [==============================] - 2s 41us/step - loss: 0.0998 - val_loss: 0.0982\n",
      "Epoch 73/100\n",
      "60000/60000 [==============================] - 3s 45us/step - loss: 0.0997 - val_loss: 0.0981\n",
      "Epoch 74/100\n",
      "60000/60000 [==============================] - 3s 43us/step - loss: 0.0996 - val_loss: 0.0980\n",
      "Epoch 75/100\n",
      "60000/60000 [==============================] - 2s 37us/step - loss: 0.0996 - val_loss: 0.0979\n",
      "Epoch 76/100\n",
      "60000/60000 [==============================] - 2s 38us/step - loss: 0.0995 - val_loss: 0.0979\n",
      "Epoch 77/100\n",
      "60000/60000 [==============================] - 2s 39us/step - loss: 0.0994 - val_loss: 0.0978\n",
      "Epoch 78/100\n",
      "60000/60000 [==============================] - 2s 37us/step - loss: 0.0993 - val_loss: 0.0977\n",
      "Epoch 79/100\n",
      "60000/60000 [==============================] - 3s 43us/step - loss: 0.0992 - val_loss: 0.0976\n",
      "Epoch 80/100\n",
      "60000/60000 [==============================] - 3s 45us/step - loss: 0.0992 - val_loss: 0.0976\n",
      "Epoch 81/100\n",
      "60000/60000 [==============================] - 3s 56us/step - loss: 0.0991 - val_loss: 0.0975\n",
      "Epoch 82/100\n",
      "60000/60000 [==============================] - 4s 72us/step - loss: 0.0990 - val_loss: 0.0974\n",
      "Epoch 83/100\n",
      "60000/60000 [==============================] - 4s 68us/step - loss: 0.0989 - val_loss: 0.0974\n",
      "Epoch 84/100\n",
      "60000/60000 [==============================] - 4s 67us/step - loss: 0.0989 - val_loss: 0.0973\n",
      "Epoch 85/100\n",
      "60000/60000 [==============================] - 4s 61us/step - loss: 0.0988 - val_loss: 0.0972\n",
      "Epoch 86/100\n",
      "60000/60000 [==============================] - 3s 51us/step - loss: 0.0987 - val_loss: 0.0972\n",
      "Epoch 87/100\n",
      "60000/60000 [==============================] - 3s 47us/step - loss: 0.0987 - val_loss: 0.0971\n",
      "Epoch 88/100\n",
      "60000/60000 [==============================] - 2s 40us/step - loss: 0.0986 - val_loss: 0.0970\n",
      "Epoch 89/100\n",
      "60000/60000 [==============================] - 2s 40us/step - loss: 0.0985 - val_loss: 0.0970\n",
      "Epoch 90/100\n",
      "60000/60000 [==============================] - 2s 40us/step - loss: 0.0985 - val_loss: 0.0969\n",
      "Epoch 91/100\n",
      "60000/60000 [==============================] - 2s 40us/step - loss: 0.0984 - val_loss: 0.0969\n",
      "Epoch 92/100\n",
      "60000/60000 [==============================] - 3s 52us/step - loss: 0.0983 - val_loss: 0.0968\n",
      "Epoch 93/100\n",
      "60000/60000 [==============================] - 3s 53us/step - loss: 0.0983 - val_loss: 0.0967\n",
      "Epoch 94/100\n",
      "60000/60000 [==============================] - 3s 44us/step - loss: 0.0982 - val_loss: 0.0967\n",
      "Epoch 95/100\n",
      "60000/60000 [==============================] - 5s 80us/step - loss: 0.0981 - val_loss: 0.0966\n",
      "Epoch 96/100\n",
      "60000/60000 [==============================] - 4s 69us/step - loss: 0.0981 - val_loss: 0.0965\n",
      "Epoch 97/100\n",
      "60000/60000 [==============================] - 3s 51us/step - loss: 0.0980 - val_loss: 0.0965\n",
      "Epoch 98/100\n",
      "60000/60000 [==============================] - 3s 53us/step - loss: 0.0979 - val_loss: 0.0964\n",
      "Epoch 99/100\n",
      "60000/60000 [==============================] - 3s 51us/step - loss: 0.0979 - val_loss: 0.0963\n",
      "Epoch 100/100\n",
      "60000/60000 [==============================] - 3s 56us/step - loss: 0.0978 - val_loss: 0.0963\n"
     ]
    },
    {
     "data": {
      "text/plain": [
       "<keras.callbacks.callbacks.History at 0x21b919c5fd0>"
      ]
     },
     "execution_count": 7,
     "metadata": {},
     "output_type": "execute_result"
    }
   ],
   "source": [
    "autoencoder_1.summary()                                                          # 打印模型的结构\n",
    "autoencoder_1.fit(x_train, x_train, epochs=100, batch_size=256,                  # 自编码器是要输出和输入尽可能的相似所以feature和label相同\n",
    "                shuffle=True, validation_data=(x_test, x_test)) "
   ]
  },
  {
   "cell_type": "markdown",
   "metadata": {},
   "source": [
    "在训练100轮之后，自动编码器的损失值收敛于**0.0963**。我们尝试对重构输入以及编码表示进行可视化分析。我们将用到`Matplotlib`这个包。"
   ]
  },
  {
   "cell_type": "code",
   "execution_count": 8,
   "metadata": {},
   "outputs": [
    {
     "data": {
      "text/plain": [
       "8.669103"
      ]
     },
     "execution_count": 8,
     "metadata": {},
     "output_type": "execute_result"
    }
   ],
   "source": [
    "# 对部分手写体数据进行编码和解码\n",
    "# 我们从测试集中提取数据进行推理\n",
    "encoded_imgs_1 = encoder_1.predict(x_test)\n",
    "decoded_imgs_1 = decoder_1.predict(encoded_imgs_1)\n",
    "encoded_imgs_1.mean()"
   ]
  },
  {
   "cell_type": "code",
   "execution_count": 10,
   "metadata": {},
   "outputs": [
    {
     "data": {
      "image/png": "[encoded data removed]",
      "text/plain": [
       "<Figure size 1440x288 with 20 Axes>"
      ]
     },
     "metadata": {
      "needs_background": "light"
     },
     "output_type": "display_data"
    }
   ],
   "source": [
    "# 调用 Matplotlib \n",
    "import matplotlib.pyplot as plt\n",
    "\n",
    "n = 10                                # 展示的图片数目\n",
    "plt.figure(figsize=(20, 4))           # 图框大小设定\n",
    "for i in range(n):\n",
    "    # 对原始数据进行可视化\n",
    "    ax = plt.subplot(2, n, i + 1)     # 子图位置设定\n",
    "    plt.imshow(x_test[i].reshape(28, 28))\n",
    "    plt.gray()                        # 只有黑白两色,没有中间的渐进色\n",
    "    ax.get_xaxis().set_visible(False) # 关闭坐标轴\n",
    "    ax.get_yaxis().set_visible(False)\n",
    "    \n",
    "    # 重构图片可视化\n",
    "    ax = plt.subplot(2, n, i + 1 + n) # 第2行\n",
    "    plt.imshow(decoded_imgs_1[i].reshape(28, 28))\n",
    "    plt.gray()\n",
    "    ax.get_xaxis().set_visible(False)\n",
    "    ax.get_yaxis().set_visible(False)\n",
    "plt.show()"
   ]
  },
  {
   "cell_type": "markdown",
   "metadata": {},
   "source": [
    "以上便是我们得到的结果，第一行为原始数据，第二行为重构后的数据。不难看出，使用这种基本方法，我们会丢失一些图片细节。"
   ]
  },
  {
   "cell_type": "markdown",
   "metadata": {},
   "source": [
    "* **Keras模型的方法及属性**\n",
    "```python\n",
    "# 包含模型网络层的展平列表\n",
    "In[1]:  autoencoder.layers \n",
    "Out[1]: [<keras.engine.input_layer.InputLayer at 0x15adab3d128>,\n",
    "         <keras.layers.core.Dense at 0x15adab3d160>,\n",
    "         <keras.layers.core.Dense at 0x15af0029b70>]\n",
    "# 模型输入张量的列表\n",
    "In[2]:  autoencoder.inputs\n",
    "Out[2]: [<tf.Tensor 'input_1:0' shape=(None, 784) dtype=float32>]\n",
    "# 模型输出张量的列表\n",
    "In[3]:  autoencoder.outputs\n",
    "Out[3]: [<tf.Tensor 'dense_2/Sigmoid:0' shape=(None, 784) dtype=float32>]\n",
    "```"
   ]
  },
  {
   "cell_type": "markdown",
   "metadata": {},
   "source": [
    "## 为编码表示添加稀疏约束\n",
    "在上一个示例中，我们用一个拥有32个神经元的隐藏层构建了特征表示层。在这种情况下隐层能够学到的知识表示和[PCA主成分分析法](https://blog.csdn.net/program_developer/article/details/80632779)相差无几。但是如果我们对隐层单元施加稀疏性约束的话，这样只有一小部分神经元会被激活，从而得到更为紧凑的表示。在Keras中, 我们通过在`Dense`层添加`activity_regularizer`来实现此功能。"
   ]
  },
  {
   "cell_type": "code",
   "execution_count": 47,
   "metadata": {},
   "outputs": [],
   "source": [
    "from keras import regularizers\n",
    "\n",
    "encoding_dim = 32\n",
    "\n",
    "input_img_2 = Input(shape=(784,))\n",
    "# 给全连接层增加 L1 规则化项\n",
    "encoded_2 = Dense(encoding_dim, activation='relu',\n",
    "                kernel_regularizer=regularizers.l1(10e-5))(input_img_2)\n",
    "decoded_2 = Dense(784, activation='sigmoid')(encoded_2)\n",
    "\n",
    "autoencoder_2 = Model(input_img_2, decoded_2)"
   ]
  },
  {
   "cell_type": "markdown",
   "metadata": {},
   "source": [
    "在设计深度学习模型的时候，我们经常需要使用正则化（`Regularization`）技巧来减少模型的过拟合效果，例如 `L1 正则化`、`L2 正则化`等。在Keras中，我们可以方便地使用三种正则化技巧：    \n",
    "* `keras.regularizers.l1`\n",
    "* `keras.regularizers.l2`\n",
    "* `keras.regularizers.l1_l2`    \n",
    "那么，我们应该如何使用这三种正则化技巧呢？以Keras中的`Dense`层为例，我们发现有以下三个参数：\n",
    "* `kernel_regularizer`:对该层中的权值进行正则化，亦即对权值进行限制，使其不至于过大。大多数情况下，使用`kernel_regularizer`就足够了。\n",
    "* `bias_regularizer`:与权值类似，限制该层中 biases 的大小。如果你希望输入和输出是接近的，你可以使用`bias_regularizer`。\n",
    "* `activity_regularizer`:对该层的输出进行正则化。如果你希望该层的输出尽量小，你应该使用`activity_regularizer`。"
   ]
  },
  {
   "cell_type": "markdown",
   "metadata": {},
   "source": [
    "让我们对这个模型进行100轮训练（在添加正则项之后会降低模型过拟合的可能性，同时也会导致训练时间变长）。"
   ]
  },
  {
   "cell_type": "code",
   "execution_count": 48,
   "metadata": {
    "scrolled": true
   },
   "outputs": [
    {
     "name": "stdout",
     "output_type": "stream",
     "text": [
      "Model: \"model_36\"\n",
      "_________________________________________________________________\n",
      "Layer (type)                 Output Shape              Param #   \n",
      "=================================================================\n",
      "input_23 (InputLayer)        (None, 784)               0         \n",
      "_________________________________________________________________\n",
      "dense_19 (Dense)             (None, 32)                25120     \n",
      "_________________________________________________________________\n",
      "dense_20 (Dense)             (None, 784)               25872     \n",
      "=================================================================\n",
      "Total params: 50,992\n",
      "Trainable params: 50,992\n",
      "Non-trainable params: 0\n",
      "_________________________________________________________________\n",
      "Train on 60000 samples, validate on 10000 samples\n",
      "Epoch 1/100\n",
      "60000/60000 [==============================] - 3s 53us/step - loss: 0.4452 - val_loss: 0.3408\n",
      "Epoch 2/100\n",
      "60000/60000 [==============================] - 3s 46us/step - loss: 0.3194 - val_loss: 0.2986\n",
      "Epoch 3/100\n",
      "60000/60000 [==============================] - 3s 52us/step - loss: 0.2845 - val_loss: 0.2704\n",
      "Epoch 4/100\n",
      "60000/60000 [==============================] - 3s 51us/step - loss: 0.2631 - val_loss: 0.2544\n",
      "Epoch 5/100\n",
      "60000/60000 [==============================] - 3s 51us/step - loss: 0.2502 - val_loss: 0.2430\n",
      "Epoch 6/100\n",
      "60000/60000 [==============================] - 3s 48us/step - loss: 0.2402 - val_loss: 0.2340\n",
      "Epoch 7/100\n",
      "60000/60000 [==============================] - 3s 48us/step - loss: 0.2323 - val_loss: 0.2271\n",
      "Epoch 8/100\n",
      "60000/60000 [==============================] - 3s 55us/step - loss: 0.2260 - val_loss: 0.2215\n",
      "Epoch 9/100\n",
      "60000/60000 [==============================] - 3s 50us/step - loss: 0.2206 - val_loss: 0.2165\n",
      "Epoch 10/100\n",
      "60000/60000 [==============================] - 3s 43us/step - loss: 0.2159 - val_loss: 0.2121\n",
      "Epoch 11/100\n",
      "60000/60000 [==============================] - 3s 42us/step - loss: 0.2115 - val_loss: 0.2080\n",
      "Epoch 12/100\n",
      "60000/60000 [==============================] - 3s 43us/step - loss: 0.2077 - val_loss: 0.2044\n",
      "Epoch 13/100\n",
      "60000/60000 [==============================] - 3s 44us/step - loss: 0.2043 - val_loss: 0.2013\n",
      "Epoch 14/100\n",
      "60000/60000 [==============================] - 3s 45us/step - loss: 0.2014 - val_loss: 0.1986\n",
      "Epoch 15/100\n",
      "60000/60000 [==============================] - 3s 44us/step - loss: 0.1987 - val_loss: 0.1960\n",
      "Epoch 16/100\n",
      "60000/60000 [==============================] - 3s 43us/step - loss: 0.1964 - val_loss: 0.1938\n",
      "Epoch 17/100\n",
      "60000/60000 [==============================] - 3s 43us/step - loss: 0.1942 - val_loss: 0.1917\n",
      "Epoch 18/100\n",
      "60000/60000 [==============================] - 3s 42us/step - loss: 0.1922 - val_loss: 0.1897\n",
      "Epoch 19/100\n",
      "60000/60000 [==============================] - 3s 43us/step - loss: 0.1903 - val_loss: 0.1879\n",
      "Epoch 20/100\n",
      "60000/60000 [==============================] - 3s 43us/step - loss: 0.1885 - val_loss: 0.1861\n",
      "Epoch 21/100\n",
      "60000/60000 [==============================] - 3s 44us/step - loss: 0.1868 - val_loss: 0.1845\n",
      "Epoch 22/100\n",
      "60000/60000 [==============================] - 3s 44us/step - loss: 0.1852 - val_loss: 0.1829\n",
      "Epoch 23/100\n",
      "60000/60000 [==============================] - 3s 44us/step - loss: 0.1836 - val_loss: 0.1813\n",
      "Epoch 24/100\n",
      "60000/60000 [==============================] - 3s 44us/step - loss: 0.1822 - val_loss: 0.1799\n",
      "Epoch 25/100\n",
      "60000/60000 [==============================] - 3s 44us/step - loss: 0.1808 - val_loss: 0.1785\n",
      "Epoch 26/100\n",
      "60000/60000 [==============================] - 3s 44us/step - loss: 0.1794 - val_loss: 0.1771\n",
      "Epoch 27/100\n",
      "60000/60000 [==============================] - 3s 44us/step - loss: 0.1781 - val_loss: 0.1759\n",
      "Epoch 28/100\n",
      "60000/60000 [==============================] - 3s 45us/step - loss: 0.1769 - val_loss: 0.1747\n",
      "Epoch 29/100\n",
      "60000/60000 [==============================] - 3s 45us/step - loss: 0.1758 - val_loss: 0.1735\n",
      "Epoch 30/100\n",
      "60000/60000 [==============================] - 3s 44us/step - loss: 0.1747 - val_loss: 0.1725\n",
      "Epoch 31/100\n",
      "60000/60000 [==============================] - 3s 43us/step - loss: 0.1736 - val_loss: 0.1714\n",
      "Epoch 32/100\n",
      "60000/60000 [==============================] - 3s 43us/step - loss: 0.1726 - val_loss: 0.1704\n",
      "Epoch 33/100\n",
      "60000/60000 [==============================] - 3s 43us/step - loss: 0.1717 - val_loss: 0.1695\n",
      "Epoch 34/100\n",
      "60000/60000 [==============================] - 3s 44us/step - loss: 0.1708 - val_loss: 0.1686\n",
      "Epoch 35/100\n",
      "60000/60000 [==============================] - 3s 43us/step - loss: 0.1699 - val_loss: 0.1678\n",
      "Epoch 36/100\n",
      "60000/60000 [==============================] - 3s 43us/step - loss: 0.1691 - val_loss: 0.1670\n",
      "Epoch 37/100\n",
      "60000/60000 [==============================] - 3s 43us/step - loss: 0.1683 - val_loss: 0.1662\n",
      "Epoch 38/100\n",
      "60000/60000 [==============================] - 3s 43us/step - loss: 0.1676 - val_loss: 0.1655\n",
      "Epoch 39/100\n",
      "60000/60000 [==============================] - 3s 43us/step - loss: 0.1669 - val_loss: 0.1648\n",
      "Epoch 40/100\n",
      "60000/60000 [==============================] - 3s 43us/step - loss: 0.1662 - val_loss: 0.1641\n",
      "Epoch 41/100\n",
      "60000/60000 [==============================] - 3s 43us/step - loss: 0.1655 - val_loss: 0.1635\n",
      "Epoch 42/100\n",
      "60000/60000 [==============================] - 3s 43us/step - loss: 0.1649 - val_loss: 0.1629\n",
      "Epoch 43/100\n",
      "60000/60000 [==============================] - 3s 43us/step - loss: 0.1643 - val_loss: 0.1623\n",
      "Epoch 44/100\n",
      "60000/60000 [==============================] - 3s 43us/step - loss: 0.1637 - val_loss: 0.1617\n",
      "Epoch 45/100\n",
      "60000/60000 [==============================] - 3s 45us/step - loss: 0.1631 - val_loss: 0.1611\n",
      "Epoch 46/100\n",
      "60000/60000 [==============================] - 3s 45us/step - loss: 0.1625 - val_loss: 0.1606\n",
      "Epoch 47/100\n",
      "60000/60000 [==============================] - 3s 44us/step - loss: 0.1620 - val_loss: 0.1600\n",
      "Epoch 48/100\n",
      "60000/60000 [==============================] - 3s 44us/step - loss: 0.1615 - val_loss: 0.1595\n",
      "Epoch 49/100\n",
      "60000/60000 [==============================] - 3s 44us/step - loss: 0.1610 - val_loss: 0.1590\n",
      "Epoch 50/100\n",
      "60000/60000 [==============================] - 3s 45us/step - loss: 0.1605 - val_loss: 0.1586\n",
      "Epoch 51/100\n",
      "60000/60000 [==============================] - 3s 44us/step - loss: 0.1600 - val_loss: 0.1581\n",
      "Epoch 52/100\n",
      "60000/60000 [==============================] - 3s 44us/step - loss: 0.1596 - val_loss: 0.1577\n",
      "Epoch 53/100\n",
      "60000/60000 [==============================] - 3s 44us/step - loss: 0.1591 - val_loss: 0.1572\n",
      "Epoch 54/100\n",
      "60000/60000 [==============================] - 2s 40us/step - loss: 0.1587 - val_loss: 0.1568\n",
      "Epoch 55/100\n",
      "60000/60000 [==============================] - 2s 35us/step - loss: 0.1583 - val_loss: 0.1564\n",
      "Epoch 56/100\n",
      "60000/60000 [==============================] - 2s 34us/step - loss: 0.1579 - val_loss: 0.1560\n",
      "Epoch 57/100\n",
      "60000/60000 [==============================] - 2s 35us/step - loss: 0.1575 - val_loss: 0.1556\n",
      "Epoch 58/100\n",
      "60000/60000 [==============================] - 2s 32us/step - loss: 0.1571 - val_loss: 0.1552\n",
      "Epoch 59/100\n",
      "60000/60000 [==============================] - 2s 31us/step - loss: 0.1567 - val_loss: 0.1549\n",
      "Epoch 60/100\n",
      "60000/60000 [==============================] - 2s 32us/step - loss: 0.1564 - val_loss: 0.1545\n",
      "Epoch 61/100\n",
      "60000/60000 [==============================] - 2s 31us/step - loss: 0.1560 - val_loss: 0.1542\n",
      "Epoch 62/100\n",
      "60000/60000 [==============================] - 2s 32us/step - loss: 0.1557 - val_loss: 0.1538\n",
      "Epoch 63/100\n",
      "60000/60000 [==============================] - 2s 32us/step - loss: 0.1554 - val_loss: 0.1535\n",
      "Epoch 64/100\n",
      "60000/60000 [==============================] - 2s 34us/step - loss: 0.1551 - val_loss: 0.1532\n",
      "Epoch 65/100\n",
      "60000/60000 [==============================] - 2s 36us/step - loss: 0.1548 - val_loss: 0.1529\n",
      "Epoch 66/100\n",
      "60000/60000 [==============================] - 3s 51us/step - loss: 0.1545 - val_loss: 0.1526\n",
      "Epoch 67/100\n",
      "60000/60000 [==============================] - 4s 72us/step - loss: 0.1542 - val_loss: 0.1524\n",
      "Epoch 68/100\n",
      "60000/60000 [==============================] - 3s 50us/step - loss: 0.1539 - val_loss: 0.1521\n",
      "Epoch 69/100\n",
      "60000/60000 [==============================] - 3s 47us/step - loss: 0.1536 - val_loss: 0.1518\n",
      "Epoch 70/100\n"
     ]
    },
    {
     "name": "stdout",
     "output_type": "stream",
     "text": [
      "60000/60000 [==============================] - 3s 47us/step - loss: 0.1534 - val_loss: 0.1516\n",
      "Epoch 71/100\n",
      "60000/60000 [==============================] - 3s 50us/step - loss: 0.1531 - val_loss: 0.1513\n",
      "Epoch 72/100\n",
      "60000/60000 [==============================] - 3s 46us/step - loss: 0.1529 - val_loss: 0.1511\n",
      "Epoch 73/100\n",
      "60000/60000 [==============================] - 3s 47us/step - loss: 0.1527 - val_loss: 0.1509\n",
      "Epoch 74/100\n",
      "60000/60000 [==============================] - 3s 42us/step - loss: 0.1524 - val_loss: 0.1506\n",
      "Epoch 75/100\n",
      "60000/60000 [==============================] - 3s 43us/step - loss: 0.1522 - val_loss: 0.1504\n",
      "Epoch 76/100\n",
      "60000/60000 [==============================] - 3s 42us/step - loss: 0.1520 - val_loss: 0.1502\n",
      "Epoch 77/100\n",
      "60000/60000 [==============================] - 3s 48us/step - loss: 0.1518 - val_loss: 0.1500\n",
      "Epoch 78/100\n",
      "60000/60000 [==============================] - 3s 52us/step - loss: 0.1516 - val_loss: 0.1498\n",
      "Epoch 79/100\n",
      "60000/60000 [==============================] - 3s 47us/step - loss: 0.1514 - val_loss: 0.1496\n",
      "Epoch 80/100\n",
      "60000/60000 [==============================] - 3s 52us/step - loss: 0.1512 - val_loss: 0.1494\n",
      "Epoch 81/100\n",
      "60000/60000 [==============================] - 3s 52us/step - loss: 0.1510 - val_loss: 0.1492\n",
      "Epoch 82/100\n",
      "60000/60000 [==============================] - 3s 48us/step - loss: 0.1508 - val_loss: 0.1490\n",
      "Epoch 83/100\n",
      "60000/60000 [==============================] - 3s 48us/step - loss: 0.1506 - val_loss: 0.1489\n",
      "Epoch 84/100\n",
      "60000/60000 [==============================] - 3s 48us/step - loss: 0.1505 - val_loss: 0.1487\n",
      "Epoch 85/100\n",
      "60000/60000 [==============================] - 3s 46us/step - loss: 0.1503 - val_loss: 0.1485\n",
      "Epoch 86/100\n",
      "60000/60000 [==============================] - 3s 49us/step - loss: 0.1501 - val_loss: 0.1483\n",
      "Epoch 87/100\n",
      "60000/60000 [==============================] - 3s 49us/step - loss: 0.1500 - val_loss: 0.1482\n",
      "Epoch 88/100\n",
      "60000/60000 [==============================] - 3s 46us/step - loss: 0.1498 - val_loss: 0.1480\n",
      "Epoch 89/100\n",
      "60000/60000 [==============================] - 3s 46us/step - loss: 0.1496 - val_loss: 0.1479\n",
      "Epoch 90/100\n",
      "60000/60000 [==============================] - 3s 46us/step - loss: 0.1495 - val_loss: 0.1477\n",
      "Epoch 91/100\n",
      "60000/60000 [==============================] - 3s 47us/step - loss: 0.1493 - val_loss: 0.1476\n",
      "Epoch 92/100\n",
      "60000/60000 [==============================] - 4s 59us/step - loss: 0.1492 - val_loss: 0.1474\n",
      "Epoch 93/100\n",
      "60000/60000 [==============================] - 3s 47us/step - loss: 0.1490 - val_loss: 0.1473\n",
      "Epoch 94/100\n",
      "60000/60000 [==============================] - 3s 51us/step - loss: 0.1489 - val_loss: 0.1471\n",
      "Epoch 95/100\n",
      "60000/60000 [==============================] - 3s 47us/step - loss: 0.1487 - val_loss: 0.1470\n",
      "Epoch 96/100\n",
      "60000/60000 [==============================] - 3s 47us/step - loss: 0.1486 - val_loss: 0.1468\n",
      "Epoch 97/100\n",
      "60000/60000 [==============================] - 3s 53us/step - loss: 0.1485 - val_loss: 0.1467\n",
      "Epoch 98/100\n",
      "60000/60000 [==============================] - 3s 46us/step - loss: 0.1483 - val_loss: 0.1466\n",
      "Epoch 99/100\n",
      "60000/60000 [==============================] - 3s 45us/step - loss: 0.1482 - val_loss: 0.1465\n",
      "Epoch 100/100\n",
      "60000/60000 [==============================] - 3s 46us/step - loss: 0.1481 - val_loss: 0.1463\n"
     ]
    },
    {
     "data": {
      "text/plain": [
       "<keras.callbacks.callbacks.History at 0x21baed2a160>"
      ]
     },
     "execution_count": 48,
     "metadata": {},
     "output_type": "execute_result"
    }
   ],
   "source": [
    "# 这个模型将一个输入映射到它的编码表示中\n",
    "encoder_2 = Model(input_img_2, encoded_2)\n",
    "# 将已编码的结果输入到解码器中\n",
    "decoded_input_2 = Input(shape=(encoding_dim,))\n",
    "# 获取自编码器的最后一层\n",
    "decoder_layer_2 = autoencoder_2.layers[-1]\n",
    "# 创建解码器\n",
    "decoder_2 = Model(decoded_input_2, decoder_layer_2(decoded_input_2))\n",
    "autoencoder_2.compile(optimizer='adadelta', loss='binary_crossentropy')\n",
    "autoencoder_2.summary()                                                          # 打印模型的结构\n",
    "autoencoder_2.fit(x_train, x_train, epochs=100, batch_size=256,                  # 自编码器是要输出和输入尽可能的相似所以feature和label相同\n",
    "                shuffle=True, validation_data=(x_test, x_test)) "
   ]
  },
  {
   "cell_type": "markdown",
   "metadata": {},
   "source": [
    "最终模型在训练集上的损失值为**0.1481**，在测试集上的损失值为**0.1463**。他们之间的差异主要是由于在训练过程中加了正则项而在测试过程中没有添加正则项造成的（相差大约0.002）"
   ]
  },
  {
   "cell_type": "code",
   "execution_count": 49,
   "metadata": {},
   "outputs": [
    {
     "data": {
      "text/plain": [
       "2.1426053"
      ]
     },
     "execution_count": 49,
     "metadata": {},
     "output_type": "execute_result"
    }
   ],
   "source": [
    "encoded_imgs_2 = encoder_2.predict(x_test)\n",
    "decoded_imgs_2 = decoder_2.predict(encoded_imgs_2)\n",
    "encoded_imgs_2.mean()"
   ]
  },
  {
   "cell_type": "code",
   "execution_count": 50,
   "metadata": {},
   "outputs": [
    {
     "data": {
      "image/png": "[encoded data removed]",
      "text/plain": [
       "<Figure size 1440x288 with 20 Axes>"
      ]
     },
     "metadata": {
      "needs_background": "light"
     },
     "output_type": "display_data"
    }
   ],
   "source": [
    "n = 10                                # 展示的图片数目\n",
    "plt.figure(figsize=(20, 4))           # 图框大小设定\n",
    "for i in range(n):\n",
    "    # 对原始数据进行可视化\n",
    "    ax = plt.subplot(2, n, i + 1)     # 子图位置设定\n",
    "    plt.imshow(x_test[i].reshape(28, 28))\n",
    "    plt.gray()                        # 只有黑白两色,没有中间的渐进色\n",
    "    ax.get_xaxis().set_visible(False) # 关闭坐标轴\n",
    "    ax.get_yaxis().set_visible(False)\n",
    "    \n",
    "    # 重构图片可视化\n",
    "    ax = plt.subplot(2, n, i + 1 + n) # 第2行\n",
    "    plt.imshow(decoded_imgs_2[i].reshape(28, 28))\n",
    "    plt.gray()\n",
    "    ax.get_xaxis().set_visible(False)\n",
    "    ax.get_yaxis().set_visible(False)\n",
    "plt.show()"
   ]
  },
  {
   "cell_type": "markdown",
   "metadata": {},
   "source": [
    "以上是我们得到的最新一组结果。这个看起来和我们的上一个模型差不多，唯一显著的区别是编码出来的码字更加稀疏了。`encoded_imgs.mean()`这个函数在我们10,000张测试集图片上计算得到的码字均值为`2.1426053`，然而之前模型的计算结果为`8.669103`，所以我们新模型生成的稀疏表示是原来模型稀疏性的4倍。"
   ]
  },
  {
   "cell_type": "markdown",
   "metadata": {},
   "source": [
    "## 深度全连接自动编码器\n",
    "只有一个隐层作为编码器或者解码器并不是一个强制性的约束，反而我们可以使用多层进行堆叠，例如这个样子："
   ]
  },
  {
   "cell_type": "code",
   "execution_count": 51,
   "metadata": {},
   "outputs": [],
   "source": [
    "input_img_3 = Input(shape=(784,))\n",
    "encoded_3 = Dense(128, activation='relu')(input_img_3)\n",
    "encoded_3 = Dense(64, activation='relu')(encoded_3)\n",
    "encoded_3 = Dense(32, activation='relu')(encoded_3)\n",
    "\n",
    "decoded_3 = Dense(64, activation='relu')(encoded_3)\n",
    "decoded_3 = Dense(128, activation='relu')(decoded_3)\n",
    "decoded_3 = Dense(784, activation='sigmoid')(decoded_3)"
   ]
  },
  {
   "cell_type": "markdown",
   "metadata": {},
   "source": [
    "接下来让我们进行如下的尝试："
   ]
  },
  {
   "cell_type": "code",
   "execution_count": 56,
   "metadata": {
    "scrolled": true
   },
   "outputs": [
    {
     "name": "stdout",
     "output_type": "stream",
     "text": [
      "Model: \"model_46\"\n",
      "_________________________________________________________________\n",
      "Layer (type)                 Output Shape              Param #   \n",
      "=================================================================\n",
      "input_25 (InputLayer)        (None, 784)               0         \n",
      "_________________________________________________________________\n",
      "dense_21 (Dense)             (None, 128)               100480    \n",
      "_________________________________________________________________\n",
      "dense_22 (Dense)             (None, 64)                8256      \n",
      "_________________________________________________________________\n",
      "dense_23 (Dense)             (None, 32)                2080      \n",
      "_________________________________________________________________\n",
      "dense_24 (Dense)             (None, 64)                2112      \n",
      "_________________________________________________________________\n",
      "dense_25 (Dense)             (None, 128)               8320      \n",
      "_________________________________________________________________\n",
      "dense_26 (Dense)             (None, 784)               101136    \n",
      "=================================================================\n",
      "Total params: 222,384\n",
      "Trainable params: 222,384\n",
      "Non-trainable params: 0\n",
      "_________________________________________________________________\n",
      "Train on 60000 samples, validate on 10000 samples\n",
      "Epoch 1/100\n",
      "60000/60000 [==============================] - 5s 89us/step - loss: 0.3301 - val_loss: 0.2630\n",
      "Epoch 2/100\n",
      "60000/60000 [==============================] - 4s 71us/step - loss: 0.2548 - val_loss: 0.2450\n",
      "Epoch 3/100\n",
      "60000/60000 [==============================] - 4s 68us/step - loss: 0.2348 - val_loss: 0.2198\n",
      "Epoch 4/100\n",
      "60000/60000 [==============================] - 5s 85us/step - loss: 0.2141 - val_loss: 0.2064\n",
      "Epoch 5/100\n",
      "60000/60000 [==============================] - 4s 66us/step - loss: 0.2021 - val_loss: 0.1947\n",
      "Epoch 6/100\n",
      "60000/60000 [==============================] - 4s 66us/step - loss: 0.1900 - val_loss: 0.1829\n",
      "Epoch 7/100\n",
      "60000/60000 [==============================] - 4s 65us/step - loss: 0.1814 - val_loss: 0.1762\n",
      "Epoch 8/100\n",
      "60000/60000 [==============================] - 4s 66us/step - loss: 0.1761 - val_loss: 0.1727\n",
      "Epoch 9/100\n",
      "60000/60000 [==============================] - 4s 74us/step - loss: 0.1713 - val_loss: 0.1683\n",
      "Epoch 10/100\n",
      "60000/60000 [==============================] - 5s 76us/step - loss: 0.1663 - val_loss: 0.1635\n",
      "Epoch 11/100\n",
      "60000/60000 [==============================] - 4s 69us/step - loss: 0.1615 - val_loss: 0.1589\n",
      "Epoch 12/100\n",
      "60000/60000 [==============================] - 4s 64us/step - loss: 0.1572 - val_loss: 0.1527\n",
      "Epoch 13/100\n",
      "60000/60000 [==============================] - 4s 66us/step - loss: 0.1537 - val_loss: 0.1504\n",
      "Epoch 14/100\n",
      "60000/60000 [==============================] - 4s 66us/step - loss: 0.1506 - val_loss: 0.1492\n",
      "Epoch 15/100\n",
      "60000/60000 [==============================] - 4s 67us/step - loss: 0.1481 - val_loss: 0.1459\n",
      "Epoch 16/100\n",
      "60000/60000 [==============================] - 4s 68us/step - loss: 0.1463 - val_loss: 0.1441\n",
      "Epoch 17/100\n",
      "60000/60000 [==============================] - 4s 74us/step - loss: 0.1442 - val_loss: 0.1422\n",
      "Epoch 18/100\n",
      "60000/60000 [==============================] - 4s 75us/step - loss: 0.1427 - val_loss: 0.1403\n",
      "Epoch 19/100\n",
      "60000/60000 [==============================] - 4s 67us/step - loss: 0.1412 - val_loss: 0.1381\n",
      "Epoch 20/100\n",
      "60000/60000 [==============================] - 4s 65us/step - loss: 0.1395 - val_loss: 0.1390\n",
      "Epoch 21/100\n",
      "60000/60000 [==============================] - 4s 66us/step - loss: 0.1379 - val_loss: 0.1355\n",
      "Epoch 22/100\n",
      "60000/60000 [==============================] - 5s 77us/step - loss: 0.1363 - val_loss: 0.1324\n",
      "Epoch 23/100\n",
      "60000/60000 [==============================] - 4s 64us/step - loss: 0.1346 - val_loss: 0.1312\n",
      "Epoch 24/100\n",
      "60000/60000 [==============================] - 4s 67us/step - loss: 0.1329 - val_loss: 0.1311\n",
      "Epoch 25/100\n",
      "60000/60000 [==============================] - 4s 67us/step - loss: 0.1315 - val_loss: 0.1304\n",
      "Epoch 26/100\n",
      "60000/60000 [==============================] - 4s 65us/step - loss: 0.1300 - val_loss: 0.1280\n",
      "Epoch 27/100\n",
      "60000/60000 [==============================] - 4s 66us/step - loss: 0.1288 - val_loss: 0.1288\n",
      "Epoch 28/100\n",
      "60000/60000 [==============================] - 4s 66us/step - loss: 0.1277 - val_loss: 0.1261\n",
      "Epoch 29/100\n",
      "60000/60000 [==============================] - 4s 66us/step - loss: 0.1268 - val_loss: 0.1258\n",
      "Epoch 30/100\n",
      "60000/60000 [==============================] - 4s 69us/step - loss: 0.1257 - val_loss: 0.1276\n",
      "Epoch 31/100\n",
      "60000/60000 [==============================] - 4s 68us/step - loss: 0.1249 - val_loss: 0.1216\n",
      "Epoch 32/100\n",
      "60000/60000 [==============================] - 4s 68us/step - loss: 0.1240 - val_loss: 0.1213\n",
      "Epoch 33/100\n",
      "60000/60000 [==============================] - 4s 68us/step - loss: 0.1230 - val_loss: 0.1205\n",
      "Epoch 34/100\n",
      "60000/60000 [==============================] - 4s 69us/step - loss: 0.1221 - val_loss: 0.1220\n",
      "Epoch 35/100\n",
      "60000/60000 [==============================] - 4s 68us/step - loss: 0.1213 - val_loss: 0.1190\n",
      "Epoch 36/100\n",
      "60000/60000 [==============================] - 4s 67us/step - loss: 0.1205 - val_loss: 0.1179\n",
      "Epoch 37/100\n",
      "60000/60000 [==============================] - 4s 71us/step - loss: 0.1199 - val_loss: 0.1180\n",
      "Epoch 38/100\n",
      "60000/60000 [==============================] - 4s 68us/step - loss: 0.1193 - val_loss: 0.1192\n",
      "Epoch 39/100\n",
      "60000/60000 [==============================] - 4s 66us/step - loss: 0.1186 - val_loss: 0.1176\n",
      "Epoch 40/100\n",
      "60000/60000 [==============================] - 4s 66us/step - loss: 0.1180 - val_loss: 0.1145\n",
      "Epoch 41/100\n",
      "60000/60000 [==============================] - 4s 66us/step - loss: 0.1175 - val_loss: 0.1159\n",
      "Epoch 42/100\n",
      "60000/60000 [==============================] - 4s 67us/step - loss: 0.1168 - val_loss: 0.1167\n",
      "Epoch 43/100\n",
      "60000/60000 [==============================] - 4s 67us/step - loss: 0.1163 - val_loss: 0.1153\n",
      "Epoch 44/100\n",
      "60000/60000 [==============================] - 4s 68us/step - loss: 0.1157 - val_loss: 0.1163\n",
      "Epoch 45/100\n",
      "60000/60000 [==============================] - 4s 69us/step - loss: 0.1152 - val_loss: 0.1140\n",
      "Epoch 46/100\n",
      "60000/60000 [==============================] - 4s 69us/step - loss: 0.1149 - val_loss: 0.1135\n",
      "Epoch 47/100\n",
      "60000/60000 [==============================] - 4s 69us/step - loss: 0.1143 - val_loss: 0.1146\n",
      "Epoch 48/100\n",
      "60000/60000 [==============================] - 4s 69us/step - loss: 0.1141 - val_loss: 0.1137\n",
      "Epoch 49/100\n",
      "60000/60000 [==============================] - 4s 71us/step - loss: 0.1135 - val_loss: 0.1125\n",
      "Epoch 50/100\n",
      "60000/60000 [==============================] - 4s 70us/step - loss: 0.1131 - val_loss: 0.1116\n",
      "Epoch 51/100\n",
      "60000/60000 [==============================] - 4s 69us/step - loss: 0.1128 - val_loss: 0.1126\n",
      "Epoch 52/100\n",
      "60000/60000 [==============================] - 4s 67us/step - loss: 0.1123 - val_loss: 0.1107\n",
      "Epoch 53/100\n",
      "60000/60000 [==============================] - 4s 67us/step - loss: 0.1120 - val_loss: 0.1092\n",
      "Epoch 54/100\n",
      "60000/60000 [==============================] - 4s 69us/step - loss: 0.1115 - val_loss: 0.1105\n",
      "Epoch 55/100\n",
      "60000/60000 [==============================] - 4s 67us/step - loss: 0.1110 - val_loss: 0.1100\n",
      "Epoch 56/100\n",
      "60000/60000 [==============================] - 4s 67us/step - loss: 0.1106 - val_loss: 0.1083\n",
      "Epoch 57/100\n",
      "60000/60000 [==============================] - 4s 68us/step - loss: 0.1101 - val_loss: 0.1075\n",
      "Epoch 58/100\n",
      "60000/60000 [==============================] - 4s 67us/step - loss: 0.1099 - val_loss: 0.1082\n",
      "Epoch 59/100\n",
      "60000/60000 [==============================] - 4s 69us/step - loss: 0.1095 - val_loss: 0.1081\n",
      "Epoch 60/100\n",
      "60000/60000 [==============================] - 4s 69us/step - loss: 0.1091 - val_loss: 0.1076\n",
      "Epoch 61/100\n",
      "60000/60000 [==============================] - 4s 69us/step - loss: 0.1088 - val_loss: 0.1085\n",
      "Epoch 62/100\n",
      "60000/60000 [==============================] - 4s 70us/step - loss: 0.1083 - val_loss: 0.1068\n",
      "Epoch 63/100\n",
      "60000/60000 [==============================] - 4s 74us/step - loss: 0.1081 - val_loss: 0.1076\n",
      "Epoch 64/100\n",
      "60000/60000 [==============================] - 4s 74us/step - loss: 0.1077 - val_loss: 0.1054\n",
      "Epoch 65/100\n"
     ]
    },
    {
     "name": "stdout",
     "output_type": "stream",
     "text": [
      "60000/60000 [==============================] - 4s 65us/step - loss: 0.1072 - val_loss: 0.1087\n",
      "Epoch 66/100\n",
      "60000/60000 [==============================] - 4s 65us/step - loss: 0.1070 - val_loss: 0.1068\n",
      "Epoch 67/100\n",
      "60000/60000 [==============================] - 4s 64us/step - loss: 0.1067 - val_loss: 0.1046\n",
      "Epoch 68/100\n",
      "60000/60000 [==============================] - 4s 63us/step - loss: 0.1065 - val_loss: 0.1041\n",
      "Epoch 69/100\n",
      "60000/60000 [==============================] - 4s 64us/step - loss: 0.1060 - val_loss: 0.1058\n",
      "Epoch 70/100\n",
      "60000/60000 [==============================] - 4s 64us/step - loss: 0.1058 - val_loss: 0.1044\n",
      "Epoch 71/100\n",
      "60000/60000 [==============================] - 4s 65us/step - loss: 0.1055 - val_loss: 0.1039\n",
      "Epoch 72/100\n",
      "60000/60000 [==============================] - 4s 64us/step - loss: 0.1052 - val_loss: 0.1039\n",
      "Epoch 73/100\n",
      "60000/60000 [==============================] - 4s 71us/step - loss: 0.1050 - val_loss: 0.1035\n",
      "Epoch 74/100\n",
      "60000/60000 [==============================] - 4s 66us/step - loss: 0.1046 - val_loss: 0.1032\n",
      "Epoch 75/100\n",
      "60000/60000 [==============================] - 4s 67us/step - loss: 0.1043 - val_loss: 0.1020\n",
      "Epoch 76/100\n",
      "60000/60000 [==============================] - 4s 66us/step - loss: 0.1042 - val_loss: 0.1032\n",
      "Epoch 77/100\n",
      "60000/60000 [==============================] - 4s 66us/step - loss: 0.1040 - val_loss: 0.1031\n",
      "Epoch 78/100\n",
      "60000/60000 [==============================] - 4s 66us/step - loss: 0.1037 - val_loss: 0.1038\n",
      "Epoch 79/100\n",
      "60000/60000 [==============================] - 4s 66us/step - loss: 0.1036 - val_loss: 0.1016\n",
      "Epoch 80/100\n",
      "60000/60000 [==============================] - 4s 67us/step - loss: 0.1032 - val_loss: 0.1025\n",
      "Epoch 81/100\n",
      "60000/60000 [==============================] - 4s 67us/step - loss: 0.1031 - val_loss: 0.1023\n",
      "Epoch 82/100\n",
      "60000/60000 [==============================] - 4s 66us/step - loss: 0.1029 - val_loss: 0.1022\n",
      "Epoch 83/100\n",
      "60000/60000 [==============================] - 4s 65us/step - loss: 0.1027 - val_loss: 0.1025\n",
      "Epoch 84/100\n",
      "60000/60000 [==============================] - 4s 65us/step - loss: 0.1024 - val_loss: 0.1021\n",
      "Epoch 85/100\n",
      "60000/60000 [==============================] - 4s 65us/step - loss: 0.1023 - val_loss: 0.1012\n",
      "Epoch 86/100\n",
      "60000/60000 [==============================] - 4s 64us/step - loss: 0.1021 - val_loss: 0.0994\n",
      "Epoch 87/100\n",
      "60000/60000 [==============================] - 4s 66us/step - loss: 0.1018 - val_loss: 0.1010\n",
      "Epoch 88/100\n",
      "60000/60000 [==============================] - 4s 64us/step - loss: 0.1017 - val_loss: 0.1006\n",
      "Epoch 89/100\n",
      "60000/60000 [==============================] - 4s 67us/step - loss: 0.1015 - val_loss: 0.1012\n",
      "Epoch 90/100\n",
      "60000/60000 [==============================] - 4s 67us/step - loss: 0.1014 - val_loss: 0.1004\n",
      "Epoch 91/100\n",
      "60000/60000 [==============================] - 4s 66us/step - loss: 0.1011 - val_loss: 0.1008\n",
      "Epoch 92/100\n",
      "60000/60000 [==============================] - 4s 71us/step - loss: 0.1011 - val_loss: 0.1018\n",
      "Epoch 93/100\n",
      "60000/60000 [==============================] - 4s 69us/step - loss: 0.1008 - val_loss: 0.1011\n",
      "Epoch 94/100\n",
      "60000/60000 [==============================] - 4s 67us/step - loss: 0.1008 - val_loss: 0.0984\n",
      "Epoch 95/100\n",
      "60000/60000 [==============================] - 4s 74us/step - loss: 0.1006 - val_loss: 0.1002\n",
      "Epoch 96/100\n",
      "60000/60000 [==============================] - 4s 72us/step - loss: 0.1004 - val_loss: 0.0990\n",
      "Epoch 97/100\n",
      "60000/60000 [==============================] - 4s 68us/step - loss: 0.1002 - val_loss: 0.0983\n",
      "Epoch 98/100\n",
      "60000/60000 [==============================] - 4s 68us/step - loss: 0.1000 - val_loss: 0.1000\n",
      "Epoch 99/100\n",
      "60000/60000 [==============================] - 4s 69us/step - loss: 0.0999 - val_loss: 0.0979\n",
      "Epoch 100/100\n",
      "60000/60000 [==============================] - 4s 69us/step - loss: 0.0999 - val_loss: 0.0979\n"
     ]
    }
   ],
   "source": [
    "autoencoder_3 = Model(input_img_3, decoded_3)\n",
    "autoencoder_3.compile(optimizer='adadelta', loss='binary_crossentropy')\n",
    "autoencoder_3.summary()                                                          # 打印模型的结构\n",
    "autoencoder_3.fit(x_train, x_train, epochs=100, batch_size=256, shuffle=True, validation_data=(x_test, x_test))\n",
    "decoded_imgs_3 = autoencoder_3.predict(x_test)"
   ]
  },
  {
   "cell_type": "code",
   "execution_count": 58,
   "metadata": {},
   "outputs": [
    {
     "data": {
      "image/png": "[encoded data removed]",
      "text/plain": [
       "<Figure size 1440x288 with 20 Axes>"
      ]
     },
     "metadata": {
      "needs_background": "light"
     },
     "output_type": "display_data"
    }
   ],
   "source": [
    "n = 10                                # 展示的图片数目\n",
    "plt.figure(figsize=(20, 4))           # 图框大小设定\n",
    "for i in range(n):\n",
    "    # 对原始数据进行可视化\n",
    "    ax = plt.subplot(2, n, i + 1)     # 子图位置设定\n",
    "    plt.imshow(x_test[i].reshape(28, 28))\n",
    "    plt.gray()                        # 只有黑白两色,没有中间的渐进色\n",
    "    ax.get_xaxis().set_visible(False) # 关闭坐标轴\n",
    "    ax.get_yaxis().set_visible(False)\n",
    "    \n",
    "    # 重构图片可视化\n",
    "    ax = plt.subplot(2, n, i + 1 + n) # 第2行\n",
    "    plt.imshow(decoded_imgs_3[i].reshape(28, 28))\n",
    "    plt.gray()\n",
    "    ax.get_xaxis().set_visible(False)\n",
    "    ax.get_yaxis().set_visible(False)\n",
    "plt.show()"
   ]
  },
  {
   "cell_type": "markdown",
   "metadata": {},
   "source": [
    "训练100轮之后，训练集和测试集上的损失值均在0.099左右，这个模型比我们之前的模型表现略微好一些，我们的手写体图像重构看起来也更好一些。"
   ]
  },
  {
   "cell_type": "markdown",
   "metadata": {},
   "source": [
    "## 卷积自动编码器\n",
    "由于我们的输入为图像，所以使用卷积神经网络作为编码器和解码器是有意义的。在实际应用中，卷积自动编码器由于在各方面表现更佳，所以更多地应用在图像领域中。     \n",
    "接下来让我们来实现一个卷积自动编码器。编码器由`Conv2D`和`MaxPooling2D`层（MaxPooling负责空域下采样）的堆叠组成，解码器由` Conv2D`和`UpSampling2D `层的堆叠组成。"
   ]
  },
  {
   "cell_type": "code",
   "execution_count": 59,
   "metadata": {},
   "outputs": [],
   "source": [
    "from keras.layers import Input, Dense, Conv2D, MaxPooling2D, UpSampling2D\n",
    "from keras.models import Model\n",
    "from keras import backend as K\n",
    "\n",
    "input_img = Input(shape=(28, 28, 1))  # 当图像配置为 `channels_first` 时使用此输入\n",
    "\n",
    "x = Conv2D(16, (3, 3), activation='relu', padding='same')(input_img)\n",
    "x = MaxPooling2D((2, 2), padding='same')(x)\n",
    "x = Conv2D(8, (3, 3), activation='relu', padding='same')(x)\n",
    "x = MaxPooling2D((2, 2), padding='same')(x)\n",
    "x = Conv2D(8, (3, 3), activation='relu', padding='same')(x)\n",
    "encoded = MaxPooling2D((2, 2), padding='same')(x)\n",
    "\n",
    "# 到这一步为止，128维将以(4, 4, 8)进行表示\n",
    "\n",
    "x = Conv2D(8, (3, 3), activation='relu', padding='same')(encoded)\n",
    "x = UpSampling2D((2, 2))(x)\n",
    "x = Conv2D(8, (3, 3), activation='relu', padding='same')(x)\n",
    "x = UpSampling2D((2, 2))(x)\n",
    "x = Conv2D(16, (3, 3), activation='relu')(x)\n",
    "x = UpSampling2D((2, 2))(x)\n",
    "decoded = Conv2D(1, (3, 3), activation='sigmoid', padding='same')(x)\n",
    "\n",
    "autoencoder = Model(input_img, decoded)\n",
    "autoencoder.compile(optimizer='adadelta', loss='binary_crossentropy')"
   ]
  },
  {
   "cell_type": "markdown",
   "metadata": {},
   "source": [
    "为了对此模型进行训练，我们将使用原始的MNIST数据集，该数据集的大小为 **(samples, 3, 28, 28)**，并且我们仅仅将图片的像素值归一化到0到1。"
   ]
  },
  {
   "cell_type": "code",
   "execution_count": 60,
   "metadata": {},
   "outputs": [],
   "source": [
    "from keras.datasets import mnist\n",
    "import numpy as np\n",
    "\n",
    "(x_train, _), (x_test, _) = mnist.load_data()\n",
    "\n",
    "x_train = x_train.astype('float32') / 255.\n",
    "x_test = x_test.astype('float32') / 255.\n",
    "x_train = np.reshape(x_train, (len(x_train), 28, 28, 1))  # 若模型配置为`channels_first`则对数据做此维度变换\n",
    "x_test = np.reshape(x_test, (len(x_test), 28, 28, 1))     # 若模型配置为`channels_first`则对数据做此维度变换"
   ]
  },
  {
   "cell_type": "markdown",
   "metadata": {},
   "source": [
    "让我们对此模型训练50轮。为了可视化训练过程的损失情况，我们使用TensorFlow作为后端，这样就可以启用`TensorBoard`了。   \n",
    "打开一个终端切换到代码目录下并用如下命令启动TensorBoard，TensorBoard将读取位于logs的日志文件："
   ]
  },
  {
   "cell_type": "markdown",
   "metadata": {},
   "source": [
    "\\begin{remark}\\label{rem:1}\n",
    "tensorboard --logdir=F:\\博士\\相关文献\\code\\mnist\\logs\n",
    "\\end{remark}"
   ]
  },
  {
   "cell_type": "markdown",
   "metadata": {},
   "source": [
    "接下来让我们开始训练模型，在回调列表中我们传入TensorBoard回调的实例，当每训练完一轮时，这个回调函数将会在logs文件夹下写日志。这些日志都是可以被TensorBoard所读取的。"
   ]
  },
  {
   "cell_type": "code",
   "execution_count": 66,
   "metadata": {
    "scrolled": true
   },
   "outputs": [
    {
     "name": "stdout",
     "output_type": "stream",
     "text": [
      "Train on 60000 samples, validate on 10000 samples\n",
      "Epoch 1/50\n",
      "60000/60000 [==============================] - 120s 2ms/step - loss: 0.2100 - val_loss: 0.1646\n",
      "Epoch 2/50\n",
      "60000/60000 [==============================] - 106s 2ms/step - loss: 0.1501 - val_loss: 0.1429\n",
      "Epoch 3/50\n",
      "60000/60000 [==============================] - 101s 2ms/step - loss: 0.1353 - val_loss: 0.1327\n",
      "Epoch 4/50\n",
      "60000/60000 [==============================] - 102s 2ms/step - loss: 0.1279 - val_loss: 0.1244\n",
      "Epoch 5/50\n",
      "60000/60000 [==============================] - 99s 2ms/step - loss: 0.1229 - val_loss: 0.1208\n",
      "Epoch 6/50\n",
      "60000/60000 [==============================] - 97s 2ms/step - loss: 0.1201 - val_loss: 0.1156\n",
      "Epoch 7/50\n",
      "60000/60000 [==============================] - 96s 2ms/step - loss: 0.1178 - val_loss: 0.1138\n",
      "Epoch 8/50\n",
      "60000/60000 [==============================] - 95s 2ms/step - loss: 0.1162 - val_loss: 0.1150\n",
      "Epoch 9/50\n",
      "60000/60000 [==============================] - 95s 2ms/step - loss: 0.1141 - val_loss: 0.1101\n",
      "Epoch 10/50\n",
      "60000/60000 [==============================] - 95s 2ms/step - loss: 0.1128 - val_loss: 0.1120\n",
      "Epoch 11/50\n",
      "60000/60000 [==============================] - 96s 2ms/step - loss: 0.1118 - val_loss: 0.1101\n",
      "Epoch 12/50\n",
      "60000/60000 [==============================] - 96s 2ms/step - loss: 0.1107 - val_loss: 0.1112\n",
      "Epoch 13/50\n",
      "60000/60000 [==============================] - 99s 2ms/step - loss: 0.1098 - val_loss: 0.1071\n",
      "Epoch 14/50\n",
      "60000/60000 [==============================] - 106s 2ms/step - loss: 0.1091 - val_loss: 0.1114\n",
      "Epoch 15/50\n",
      "60000/60000 [==============================] - 101s 2ms/step - loss: 0.1085 - val_loss: 0.1071\n",
      "Epoch 16/50\n",
      "60000/60000 [==============================] - 93s 2ms/step - loss: 0.1079 - val_loss: 0.1064\n",
      "Epoch 17/50\n",
      "60000/60000 [==============================] - 92s 2ms/step - loss: 0.1072 - val_loss: 0.1034\n",
      "Epoch 18/50\n",
      "60000/60000 [==============================] - 92s 2ms/step - loss: 0.1068 - val_loss: 0.1041\n",
      "Epoch 19/50\n",
      "60000/60000 [==============================] - 92s 2ms/step - loss: 0.1062 - val_loss: 0.1074\n",
      "Epoch 20/50\n",
      "60000/60000 [==============================] - 92s 2ms/step - loss: 0.1059 - val_loss: 0.1039\n",
      "Epoch 21/50\n",
      "60000/60000 [==============================] - 92s 2ms/step - loss: 0.1057 - val_loss: 0.1039\n",
      "Epoch 22/50\n",
      "60000/60000 [==============================] - 13104s 218ms/step - loss: 0.1051 - val_loss: 0.1017\n",
      "Epoch 23/50\n",
      "60000/60000 [==============================] - 92s 2ms/step - loss: 0.1046 - val_loss: 0.1029\n",
      "Epoch 24/50\n",
      "60000/60000 [==============================] - 96s 2ms/step - loss: 0.1040 - val_loss: 0.1039\n",
      "Epoch 25/50\n",
      "60000/60000 [==============================] - 96s 2ms/step - loss: 0.1041 - val_loss: 0.1004\n",
      "Epoch 26/50\n",
      "60000/60000 [==============================] - 96s 2ms/step - loss: 0.1038 - val_loss: 0.1030\n",
      "Epoch 27/50\n",
      "60000/60000 [==============================] - 95s 2ms/step - loss: 0.1033 - val_loss: 0.1047\n",
      "Epoch 28/50\n",
      "60000/60000 [==============================] - 94s 2ms/step - loss: 0.1031 - val_loss: 0.1002\n",
      "Epoch 29/50\n",
      "60000/60000 [==============================] - 97s 2ms/step - loss: 0.1028 - val_loss: 0.1034\n",
      "Epoch 30/50\n",
      "60000/60000 [==============================] - 96s 2ms/step - loss: 0.1024 - val_loss: 0.1000\n",
      "Epoch 31/50\n",
      "60000/60000 [==============================] - 97s 2ms/step - loss: 0.1023 - val_loss: 0.1007\n",
      "Epoch 32/50\n",
      "60000/60000 [==============================] - 95s 2ms/step - loss: 0.1024 - val_loss: 0.1003\n",
      "Epoch 33/50\n",
      "60000/60000 [==============================] - 97s 2ms/step - loss: 0.1019 - val_loss: 0.0989\n",
      "Epoch 34/50\n",
      "60000/60000 [==============================] - 99s 2ms/step - loss: 0.1019 - val_loss: 0.1023\n",
      "Epoch 35/50\n",
      "60000/60000 [==============================] - 132s 2ms/step - loss: 0.1018 - val_loss: 0.1019\n",
      "Epoch 36/50\n",
      "60000/60000 [==============================] - 97s 2ms/step - loss: 0.1017 - val_loss: 0.0998\n",
      "Epoch 37/50\n",
      "60000/60000 [==============================] - 96s 2ms/step - loss: 0.1012 - val_loss: 0.0985\n",
      "Epoch 38/50\n",
      "60000/60000 [==============================] - 97s 2ms/step - loss: 0.1014 - val_loss: 0.0981\n",
      "Epoch 39/50\n",
      "60000/60000 [==============================] - 96s 2ms/step - loss: 0.1011 - val_loss: 0.0980\n",
      "Epoch 40/50\n",
      "60000/60000 [==============================] - 96s 2ms/step - loss: 0.1011 - val_loss: 0.0977\n",
      "Epoch 41/50\n",
      "60000/60000 [==============================] - 97s 2ms/step - loss: 0.1008 - val_loss: 0.0997\n",
      "Epoch 42/50\n",
      "60000/60000 [==============================] - 96s 2ms/step - loss: 0.1006 - val_loss: 0.1013\n",
      "Epoch 43/50\n",
      "60000/60000 [==============================] - 96s 2ms/step - loss: 0.1006 - val_loss: 0.0985\n",
      "Epoch 44/50\n",
      "60000/60000 [==============================] - 96s 2ms/step - loss: 0.1002 - val_loss: 0.1030\n",
      "Epoch 45/50\n",
      "60000/60000 [==============================] - 96s 2ms/step - loss: 0.1003 - val_loss: 0.0996\n",
      "Epoch 46/50\n",
      "60000/60000 [==============================] - 96s 2ms/step - loss: 0.1004 - val_loss: 0.1002\n",
      "Epoch 47/50\n",
      "60000/60000 [==============================] - 96s 2ms/step - loss: 0.1001 - val_loss: 0.1004\n",
      "Epoch 48/50\n",
      "60000/60000 [==============================] - 97s 2ms/step - loss: 0.1000 - val_loss: 0.0989\n",
      "Epoch 49/50\n",
      "60000/60000 [==============================] - 99s 2ms/step - loss: 0.1000 - val_loss: 0.0981\n",
      "Epoch 50/50\n",
      "60000/60000 [==============================] - 97s 2ms/step - loss: 0.0998 - val_loss: 0.0970\n"
     ]
    },
    {
     "data": {
      "text/plain": [
       "<keras.callbacks.callbacks.History at 0x21ba3a0da90>"
      ]
     },
     "execution_count": 66,
     "metadata": {},
     "output_type": "execute_result"
    }
   ],
   "source": [
    "from keras.callbacks import TensorBoard\n",
    "\n",
    "autoencoder.fit(x_train, x_train,\n",
    "                epochs=50,\n",
    "                batch_size=128,\n",
    "                shuffle=True,\n",
    "                validation_data=(x_test, x_test),\n",
    "                callbacks=[TensorBoard(log_dir='logs')])"
   ]
  },
  {
   "cell_type": "code",
   "execution_count": 72,
   "metadata": {
    "scrolled": true
   },
   "outputs": [
    {
     "name": "stdout",
     "output_type": "stream",
     "text": [
      "Model: \"model_47\"\n",
      "_________________________________________________________________\n",
      "Layer (type)                 Output Shape              Param #   \n",
      "=================================================================\n",
      "input_30 (InputLayer)        (None, 28, 28, 1)         0         \n",
      "_________________________________________________________________\n",
      "conv2d_1 (Conv2D)            (None, 28, 28, 16)        160       \n",
      "_________________________________________________________________\n",
      "max_pooling2d_1 (MaxPooling2 (None, 14, 14, 16)        0         \n",
      "_________________________________________________________________\n",
      "conv2d_2 (Conv2D)            (None, 14, 14, 8)         1160      \n",
      "_________________________________________________________________\n",
      "max_pooling2d_2 (MaxPooling2 (None, 7, 7, 8)           0         \n",
      "_________________________________________________________________\n",
      "conv2d_3 (Conv2D)            (None, 7, 7, 8)           584       \n",
      "_________________________________________________________________\n",
      "max_pooling2d_3 (MaxPooling2 (None, 4, 4, 8)           0         \n",
      "_________________________________________________________________\n",
      "conv2d_4 (Conv2D)            (None, 4, 4, 8)           584       \n",
      "_________________________________________________________________\n",
      "up_sampling2d_1 (UpSampling2 (None, 8, 8, 8)           0         \n",
      "_________________________________________________________________\n",
      "conv2d_5 (Conv2D)            (None, 8, 8, 8)           584       \n",
      "_________________________________________________________________\n",
      "up_sampling2d_2 (UpSampling2 (None, 16, 16, 8)         0         \n",
      "_________________________________________________________________\n",
      "conv2d_6 (Conv2D)            (None, 14, 14, 16)        1168      \n",
      "_________________________________________________________________\n",
      "up_sampling2d_3 (UpSampling2 (None, 28, 28, 16)        0         \n",
      "_________________________________________________________________\n",
      "conv2d_7 (Conv2D)            (None, 28, 28, 1)         145       \n",
      "=================================================================\n",
      "Total params: 4,385\n",
      "Trainable params: 4,385\n",
      "Non-trainable params: 0\n",
      "_________________________________________________________________\n"
     ]
    }
   ],
   "source": [
    "autoencoder.summary()"
   ]
  },
  {
   "cell_type": "markdown",
   "metadata": {},
   "source": [
    "通过在浏览器中输入http://localhost:6006/ ，我们便可以在TensorBoard的网页界面监视训练过程。\n",
    "![训练过程](https://blog.keras.io/img/ae/tb_curves.png)"
   ]
  },
  {
   "cell_type": "markdown",
   "metadata": {},
   "source": [
    "模型的损失值收敛于`0.0970`，比我们之前模型的表现都要好一些（**这主要归功于128维的编码器相比于之前的32维编码器，大大提高了系统的复杂程度**）。让我们观察一下重构后的手写体数字。"
   ]
  },
  {
   "cell_type": "code",
   "execution_count": 68,
   "metadata": {},
   "outputs": [
    {
     "data": {
      "image/png": "[encoded data removed]",
      "text/plain": [
       "<Figure size 1440x288 with 20 Axes>"
      ]
     },
     "metadata": {
      "needs_background": "light"
     },
     "output_type": "display_data"
    }
   ],
   "source": [
    "decoded_imgs = autoencoder.predict(x_test)\n",
    "\n",
    "n = 10\n",
    "plt.figure(figsize=(20, 4))\n",
    "for i in range(n):\n",
    "    # 对原始数据进行可视化\n",
    "    ax = plt.subplot(2, n, i + 1)\n",
    "    plt.imshow(x_test[i].reshape(28, 28))\n",
    "    plt.gray()\n",
    "    ax.get_xaxis().set_visible(False)\n",
    "    ax.get_yaxis().set_visible(False)\n",
    "\n",
    "    # 重构图片可视化\n",
    "    ax = plt.subplot(2, n, i + n + 1)\n",
    "    plt.imshow(decoded_imgs[i].reshape(28, 28))\n",
    "    plt.gray()\n",
    "    ax.get_xaxis().set_visible(False)\n",
    "    ax.get_yaxis().set_visible(False)\n",
    "plt.show()"
   ]
  },
  {
   "cell_type": "markdown",
   "metadata": {},
   "source": [
    "我们可以看到128维的编码器运行结果如下图所示。由于编码器模型最终输出图片的维度为8\\*4\\*4，所以我们先把他们转换为4\\*32，以显示这些图片的灰度图。"
   ]
  },
  {
   "cell_type": "code",
   "execution_count": 71,
   "metadata": {},
   "outputs": [
    {
     "data": {
      "image/png": "[encoded data removed]",
      "text/plain": [
       "<Figure size 1440x576 with 10 Axes>"
      ]
     },
     "metadata": {
      "needs_background": "light"
     },
     "output_type": "display_data"
    }
   ],
   "source": [
    "# 从网络中提取编码器部分，注意从中间层进行抽取之前，整个模型必须通过编译\n",
    "encoder = Model(input_img, encoded)\n",
    "encoded_imgs = encoder.predict(x_test)\n",
    "\n",
    "n = 10\n",
    "plt.figure(figsize=(20, 8))\n",
    "for i in range(n):\n",
    "    ax = plt.subplot(1, n, i + 1)\n",
    "    plt.imshow(encoded_imgs[i].reshape(4, 4 * 8).T)\n",
    "    plt.gray()\n",
    "    ax.get_xaxis().set_visible(False)\n",
    "    ax.get_yaxis().set_visible(False)\n",
    "plt.show()"
   ]
  },
  {
   "cell_type": "markdown",
   "metadata": {},
   "source": [
    "## 在图片噪中的应用\n",
    "接下来，我们利用卷积自动编码器解决一个图片降噪问题。这个过程是很简单的：我们将训练自动编码器，使其能够在有噪声的图片和无噪声的图片之间进行映射。      \n",
    "我们来演示如何合成有噪声的手写数字图片：我们在图片上添加高斯白噪声，并将图片像素`clip`到0到1之间。"
   ]
  },
  {
   "cell_type": "markdown",
   "metadata": {},
   "source": [
    "* **numpy.clip**使用方法为：`numpy.clip(a, a_min, a_max, out=None)[source]` 其中a是一个数组，后面两个参数分别表示最小和最大值。\n",
    "```python\n",
    "In[1]:  import numpy as np\n",
    "          x = np.array([1,2,3,5,6,7,8,9])\n",
    "          np.clip(x,3,8)  \n",
    "Out[1]: array([3, 3, 3, 5, 6, 7, 8, 8])\n",
    "```\n",
    "`clip`这个函数将将数组中的元素限制在a_min, a_max之间，大于a_max的就使得它等于 a_max，小于a_min,的就使得它等于a_min，高维数组也是一样的。"
   ]
  },
  {
   "cell_type": "markdown",
   "metadata": {},
   "source": [
    "* **np.random.normal()**生成正态分布序列。    \n",
    "高斯分布的概率密度函数\n",
    "\\begin{equation}\\label{eq:}\n",
    "f(x)=\\frac{1}{\\sqrt{2\\pi}\\sigma}e^\\frac{(x-\\mu)^2}{2\\sigma^2}\n",
    "\\end{equation}\n",
    "* `numpy.random.normal(loc=0.0, scale=1.0, size=None) `参数的意义：\n",
    "* 1. `loc:float`:概率分布的均值，对应着整个分布的中心\n",
    "* 2. `scale:float`:概率分布的标准差，对应于分布的宽度，scale越大越矮胖，scale越小，越瘦高\n",
    "* 3. `size:int or tuple of ints`:输出的shape，默认为None，只输出一个值\n",
    "```python\n",
    "In[1]:  import numpy as np\n",
    "             np.random.normal(loc=0.0, scale=1.0, size=12)  \n",
    "Out[1]: array([ 1.7774364 ,  1.11441167,  0.04059996,  0.53853637, -0.87072645,\n",
    "                     0.86840441,  0.04738635,  1.35138895, -0.06652018,  0.96001949,\n",
    "                     -0.14320103,  0.52479529])\n",
    "```"
   ]
  },
  {
   "cell_type": "code",
   "execution_count": 75,
   "metadata": {},
   "outputs": [],
   "source": [
    "from keras.datasets import mnist\n",
    "import numpy as np\n",
    "\n",
    "(x_train, _), (x_test, _) = mnist.load_data()\n",
    "\n",
    "x_train = x_train.astype('float32') / 255.\n",
    "x_test = x_test.astype('float32') / 255.\n",
    "x_train = np.reshape(x_train, (len(x_train), 28, 28, 1))\n",
    "x_test = np.reshape(x_test, (len(x_test), 28, 28, 1)) \n",
    "\n",
    "noise_factor = 0.5\n",
    "x_train_noisy = x_train + noise_factor * np.random.normal(loc=0.0, scale=1.0, size=x_train.shape) # 矩阵相加\n",
    "x_test_noisy = x_test + noise_factor * np.random.normal(loc=0.0, scale=1.0, size=x_test.shape) \n",
    "\n",
    "x_train_noisy = np.clip(x_train_noisy, 0., 1.)\n",
    "x_test_noisy = np.clip(x_test_noisy, 0., 1.)"
   ]
  },
  {
   "cell_type": "markdown",
   "metadata": {},
   "source": [
    "手写体数字图片加噪后如下图所示："
   ]
  },
  {
   "cell_type": "code",
   "execution_count": 76,
   "metadata": {},
   "outputs": [
    {
     "data": {
      "image/png": "[encoded data removed]",
      "text/plain": [
       "<Figure size 1440x144 with 10 Axes>"
      ]
     },
     "metadata": {
      "needs_background": "light"
     },
     "output_type": "display_data"
    }
   ],
   "source": [
    "n = 10\n",
    "plt.figure(figsize=(20, 2))\n",
    "for i in range(n):\n",
    "    ax = plt.subplot(1, n, i + 1)\n",
    "    plt.imshow(x_test_noisy[i].reshape(28, 28))\n",
    "    plt.gray()\n",
    "    ax.get_xaxis().set_visible(False)\n",
    "    ax.get_yaxis().set_visible(False)\n",
    "plt.show()"
   ]
  },
  {
   "cell_type": "markdown",
   "metadata": {},
   "source": [
    "如果你眯眼看可能还能勉强认出这些数字，那我们的自动编码器能学会恢复这些图到原图吗？让我们拭目以待。    \n",
    "和之前的卷积自动编码器相比，为了提高重构图像的质量，我们将对模型做出略微的调整，使其每一层拥有更多的卷积核数目。"
   ]
  },
  {
   "cell_type": "code",
   "execution_count": 77,
   "metadata": {},
   "outputs": [],
   "source": [
    "input_img = Input(shape=(28, 28, 1))\n",
    "\n",
    "x = Conv2D(32, (3, 3), activation='relu', padding='same')(input_img)\n",
    "x = MaxPooling2D((2, 2), padding='same')(x)\n",
    "x = Conv2D(32, (3, 3), activation='relu', padding='same')(x)\n",
    "encoded = MaxPooling2D((2, 2), padding='same')(x)\n",
    "\n",
    "# 到这一步为止，图像的维度将以(7, 7, 32)进行表示 \n",
    "\n",
    "x = Conv2D(32, (3, 3), activation='relu', padding='same')(encoded)\n",
    "x = UpSampling2D((2, 2))(x)\n",
    "x = Conv2D(32, (3, 3), activation='relu', padding='same')(x)\n",
    "x = UpSampling2D((2, 2))(x)\n",
    "decoded = Conv2D(1, (3, 3), activation='sigmoid', padding='same')(x)\n",
    "\n",
    "autoencoder = Model(input_img, decoded)\n",
    "autoencoder.compile(optimizer='adadelta', loss='binary_crossentropy')"
   ]
  },
  {
   "cell_type": "markdown",
   "metadata": {},
   "source": [
    "* `UpSampling2D`可以看作是`Pooling`的反向操作，就是采用Nearest Neighbor interpolation来进行放大，说白了就是复制行和列的数据来扩充feature map的大小。\n",
    "\n",
    "让我们对这个模型训练10轮"
   ]
  },
  {
   "cell_type": "code",
   "execution_count": 79,
   "metadata": {
    "scrolled": true
   },
   "outputs": [
    {
     "name": "stdout",
     "output_type": "stream",
     "text": [
      "Train on 60000 samples, validate on 10000 samples\n",
      "Epoch 1/10\n",
      "60000/60000 [==============================] - 177s 3ms/step - loss: 0.0999 - val_loss: 0.0991\n",
      "Epoch 2/10\n",
      "60000/60000 [==============================] - 167s 3ms/step - loss: 0.0995 - val_loss: 0.0981\n",
      "Epoch 3/10\n",
      "60000/60000 [==============================] - 173s 3ms/step - loss: 0.0993 - val_loss: 0.0975\n",
      "Epoch 4/10\n",
      "60000/60000 [==============================] - 167s 3ms/step - loss: 0.0991 - val_loss: 0.0979\n",
      "Epoch 5/10\n",
      "60000/60000 [==============================] - 169s 3ms/step - loss: 0.0987 - val_loss: 0.0982\n",
      "Epoch 6/10\n",
      "60000/60000 [==============================] - 185s 3ms/step - loss: 0.0984 - val_loss: 0.0978\n",
      "Epoch 7/10\n",
      "60000/60000 [==============================] - 190s 3ms/step - loss: 0.0983 - val_loss: 0.0981\n",
      "Epoch 8/10\n",
      "60000/60000 [==============================] - 176s 3ms/step - loss: 0.0982 - val_loss: 0.0971\n",
      "Epoch 9/10\n",
      "60000/60000 [==============================] - 176s 3ms/step - loss: 0.0979 - val_loss: 0.0970\n",
      "Epoch 10/10\n",
      "60000/60000 [==============================] - 195s 3ms/step - loss: 0.0978 - val_loss: 0.0965\n"
     ]
    },
    {
     "data": {
      "text/plain": [
       "<keras.callbacks.callbacks.History at 0x21ba7faae48>"
      ]
     },
     "execution_count": 79,
     "metadata": {},
     "output_type": "execute_result"
    }
   ],
   "source": [
    "autoencoder.fit(x_train_noisy, x_train,\n",
    "                epochs=10,\n",
    "                batch_size=128,\n",
    "                shuffle=True,\n",
    "                validation_data=(x_test_noisy, x_test),\n",
    "                callbacks=[TensorBoard(log_dir='logs_nois', histogram_freq=0, write_graph=False)])"
   ]
  },
  {
   "cell_type": "code",
   "execution_count": 80,
   "metadata": {},
   "outputs": [
    {
     "data": {
      "image/png": "[encoded data removed]",
      "text/plain": [
       "<Figure size 1440x288 with 20 Axes>"
      ]
     },
     "metadata": {
      "needs_background": "light"
     },
     "output_type": "display_data"
    }
   ],
   "source": [
    "decoded_imgs = autoencoder.predict(x_test_noisy)\n",
    "\n",
    "n = 10\n",
    "plt.figure(figsize=(20, 4))\n",
    "for i in range(n):\n",
    "    # 对原始数据进行可视化\n",
    "    ax = plt.subplot(2, n, i + 1)\n",
    "    plt.imshow(x_test_noisy[i].reshape(28, 28))\n",
    "    plt.gray()\n",
    "    ax.get_xaxis().set_visible(False)\n",
    "    ax.get_yaxis().set_visible(False)\n",
    "\n",
    "    # 重构图片可视化\n",
    "    ax = plt.subplot(2, n, i + n + 1)\n",
    "    plt.imshow(decoded_imgs[i].reshape(28, 28))\n",
    "    plt.gray()\n",
    "    ax.get_xaxis().set_visible(False)\n",
    "    ax.get_yaxis().set_visible(False)\n",
    "plt.show()"
   ]
  },
  {
   "cell_type": "markdown",
   "metadata": {},
   "source": [
    "现在让我们观察一下得到的结果吧。第一行为喂给神经网络的有噪声图片，第二行为神经网络重构后的输出结果。    \n",
    "看起来我们的神经网络表现很好。如果你想训练大规模卷积神经网络，你可以尝试构建文档降噪或者音频降噪模型。[Kaggle可以为你提供一个有趣的数据集来训练模型](https://www.kaggle.com/c/denoising-dirty-documents)。"
   ]
  },
  {
   "cell_type": "markdown",
   "metadata": {},
   "source": [
    "## 序列到序列自动编码器\n",
    "如果你的输入是序列，而不是向量或者二维图片，那么你可能想要使用LSTM构成的编码器和解码器来捕捉输入序列的时间结构。为了构建一个基于LSTM的自动编码器，首先使用一个LSTM编码器将你的输入序列转换为一个包含全部序列信息的向量，然后将这个向量重复`n`次（`n`是输出序列的时间间隔数量），最后运行一个LSTM解码器将这个n步的时间序列转换为目标序列。     \n",
    "我们不会在特定的数据集上展示序列到序列自动编码器。我们仅仅给出部分示例代码为以后的读者作为参考！"
   ]
  },
  {
   "cell_type": "code",
   "execution_count": 84,
   "metadata": {},
   "outputs": [],
   "source": [
    "from keras.layers import Input, LSTM, RepeatVector\n",
    "from keras.models import Model\n",
    "\n",
    "timesteps = 1   # 仅仅作为假设\n",
    "input_dim = 1   # 仅仅作为假设\n",
    "latent_dim = 1  # 仅仅作为假设\n",
    "\n",
    "inputs = Input(shape=(timesteps, input_dim))\n",
    "encoded = LSTM(latent_dim)(inputs)\n",
    "\n",
    "decoded = RepeatVector(timesteps)(encoded)\n",
    "decoded = LSTM(input_dim, return_sequences=True)(decoded)\n",
    "\n",
    "sequence_autoencoder = Model(inputs, decoded)\n",
    "encoder = Model(inputs, encoded)"
   ]
  },
  {
   "cell_type": "markdown",
   "metadata": {},
   "source": [
    "## 变分自动编码器 \n",
    "变分自编码器是一种更先进、更有趣的自编码方式。    \n",
    "你可能会问什么是变分自动编码器。它对模型学到的编码表示添加约束，更确切地说，它可以学习到输入数据的[潜变量模型](https://blog.csdn.net/ziliwangmoe/article/details/87292443)。这样的话，神经网络学习到的不再是一个任意函数，而是学习数据概率分布的一组参数。通过在这个概率分布中采样，你可以生成新的输入数据，即变分编码器是一个生成模型。      \n",
    "* 变分自动编码器是如何工作的？     \n",
    "\n",
    "首先，编码网络将输入样本`x`转换为隐空间的两个参数，我们将其分别记为`z_mean`和`z_log_sigma`。然后，我们随机从隐藏的正态分布中采集相似点`z`，这个隐藏分布我们假设就是产生输入数据的那个分布。通过式(2)\n",
    "\\begin{equation}\\label{eq:2}\n",
    "z = z\\_mean + exp(z\\_log\\_sigma) * epsilon\n",
    "\\end{equation}\n",
    "其中，epsilon是一个服从正态分布的张量。    \n",
    "最后，使用解码器网络将隐空间映射到显空间，即将`z`转换回原来的输入数据空间。     \n",
    "这个模型的参数通过两个损失函数进行训练：重构损失函数促使解码后的数据和初始输入数据尽可能一样（就像我们之前提到过的自动编码器一样），第二项损失函数是学习到的隐分布与先验分布的[KL距离](https://blog.csdn.net/gao1440156051/article/details/44162269)，作为一个正则。实际上把后面这项损失函数去掉也可以，尽管它对学习符合要求的隐空间和防止过拟合有帮助。    \n",
    "由于变分自动编码器是一个更加复杂的示例，我们将其代码示例作为一个单独的脚本在[Github](https://github.com/keras-team/keras/blob/master/examples/variational_autoencoder.py)上开源，我们接下来将逐步复现这个模型。     \n",
    "首先构造我们的编码模型，将输入映射为隐分布的参数：\n",
    "```python\n",
    "x = Input(batch_shape=(batch_size, original_dim))\n",
    "h = Dense(intermediate_dim, activation='relu')(x)\n",
    "z_mean = Dense(latent_dim)(h)\n",
    "z_log_sigma = Dense(latent_dim)(h)\n",
    "```\n",
    "编码部分的网络结构图如下图所示：\n",
    "![encoder](img\\vae_mlp_encoder.png)\n",
    "我们可以利用这些参数从隐空间采样新的相似点：\n",
    "```python\n",
    "def sampling(args):\n",
    "    z_mean, z_log_sigma = args\n",
    "    epsilon = K.random_normal(shape=(batch_size, latent_dim), mean=0., std=epsilon_std)\n",
    "    return z_mean + K.exp(z_log_sigma) * epsilon\n",
    "\n",
    "# 注意：\"output_shape\"这个参数在使用TensorFlow做为后端时不是必要的\n",
    "# 所以你也可以这样使用函数 `Lambda(sampling)([z_mean, z_log_sigma])`\n",
    "z = Lambda(sampling, output_shape=(latent_dim,))([z_mean, z_log_sigma])\n",
    "```\n",
    "最终，将采样得到的点映射回去重构原输入：\n",
    "```\n",
    "decoder_h = Dense(intermediate_dim, activation='relu')\n",
    "decoder_mean = Dense(original_dim, activation='sigmoid')\n",
    "h_decoded = decoder_h(z)\n",
    "x_decoded_mean = decoder_mean(h_decoded)\n",
    "```\n",
    "解码部分的网络结构图如下图所示：\n",
    "![decoder](img\\vae_mlp_decoder.png)    \n",
    "我们目前所做的工作可以帮助我们实例化以下三个模型：    \n",
    "* 用于将输入与重构图片相映射的端到端的自动编码器\n",
    "* 一个将输入映射到隐空间的编码器\n",
    "* 一个可以从隐空间采集样本点的生成器，其可以输出与输入一致的重构样本    \n",
    "\n",
    "```python\n",
    "# 端到端的自动编码器\n",
    "vae = Model(x, x_decoded_mean)\n",
    "\n",
    "# 编码器，从输入到隐空间\n",
    "encoder = Model(x, z_mean)\n",
    "\n",
    "# 生成器，从隐空间到重构的输入\n",
    "decoder_input = Input(shape=(latent_dim,))\n",
    "_h_decoded = decoder_h(decoder_input)\n",
    "_x_decoded_mean = decoder_mean(_h_decoded)\n",
    "generator = Model(decoder_input, _x_decoded_mean)\n",
    "```      \n",
    "我们利用端到端的模型训练网络，并使用自定义的损失函数，由重构误差项和KL距离项组成。\n",
    "```python\n",
    "def vae_loss(x, x_decoded_mean):\n",
    "    xent_loss = objectives.binary_crossentropy(x, x_decoded_mean)\n",
    "    kl_loss = - 0.5 * K.mean(1 + z_log_sigma - K.square(z_mean) - K.exp(z_log_sigma), axis=-1)\n",
    "    return xent_loss + kl_loss\n",
    "\n",
    "vae.compile(optimizer='rmsprop', loss=vae_loss)\n",
    "```\n",
    "我们在MNIST数据集上训练变分自动编码器：\n",
    "```python\n",
    "(x_train, y_train), (x_test, y_test) = mnist.load_data()\n",
    "\n",
    "x_train = x_train.astype('float32') / 255.\n",
    "x_test = x_test.astype('float32') / 255.\n",
    "x_train = x_train.reshape((len(x_train), np.prod(x_train.shape[1:])))\n",
    "x_test = x_test.reshape((len(x_test), np.prod(x_test.shape[1:])))\n",
    "\n",
    "vae.fit(x_train, x_train,\n",
    "        shuffle=True,\n",
    "        epochs=epochs,\n",
    "        batch_size=batch_size,\n",
    "        validation_data=(x_test, x_test))\n",
    "```\n",
    "因为我们的隐空间是二维的，所以其可视化方法比较有限。其中一种方法是在隐二维平面内观察不同类的临近值：\n",
    "```python\n",
    "x_test_encoded = encoder.predict(x_test, batch_size=batch_size)\n",
    "plt.figure(figsize=(6, 6))\n",
    "plt.scatter(x_test_encoded[:, 0], x_test_encoded[:, 1], c=y_test)\n",
    "plt.colorbar()\n",
    "plt.show()\n",
    "```\n",
    "![scatter](img\\vae_mean.png)  \n",
    "图片中每一种颜色代表一簇手写体数组图像，不同簇之间距离越接近代表其手写体数字的结构越接近（手写体数字图像在隐空间共享信息）。    \n",
    "由于变分自动编码器是一个生成模型，所以我们可以利用它生成新的手写体数字图片！我们将扫描隐空间，等间隔地从隐空间中进行采样，并对这些样本点生成结构一致的手写体数字图片。这给了我们一种对于“生成”的MNIST数字的可视化方案。\n",
    "```python\n",
    "# 对于手写体数字可视化其二维流形\n",
    "n = 15  # 图片的大小为15*15\n",
    "digit_size = 28\n",
    "figure = np.zeros((digit_size * n, digit_size * n))\n",
    "# 我们在[-15, 15]均匀采集n个点\n",
    "grid_x = np.linspace(-15, 15, n)\n",
    "grid_y = np.linspace(-15, 15, n)\n",
    "\n",
    "for i, yi in enumerate(grid_x):\n",
    "    for j, xi in enumerate(grid_y):\n",
    "        z_sample = np.array([[xi, yi]]) * epsilon_std\n",
    "        x_decoded = generator.predict(z_sample)\n",
    "        digit = x_decoded[0].reshape(digit_size, digit_size)\n",
    "        figure[i * digit_size: (i + 1) * digit_size,\n",
    "               j * digit_size: (j + 1) * digit_size] = digit\n",
    "\n",
    "plt.figure(figsize=(10, 10))\n",
    "plt.imshow(figure)\n",
    "plt.show()\n",
    "```\n",
    "![隐空间可视化](img\\digits_over_latent.png)     "
   ]
  },
  {
   "cell_type": "markdown",
   "metadata": {},
   "source": [
    "###  利用变分自动编码器生成手写体数字图像\n",
    "变分自动编码器在MNIST数据集上的应用（利用多层感知器实现）。变分自动编码器是模块化结构，其包括三大部分编码器、解码器以及变分自动编码器，这三部分共享权重。变分自动编码器经过训练之后，编码器可以被用作产生隐向量，解码器可以被用作生成MNIST数据集（通过在标准正态分布中采样隐向量）。这部分的参考文献为[4] Kingma, Diederik P., and Max Welling. \"[Auto-Encoding Variational Bayes](https://arxiv.org/abs/1312.6114).\" "
   ]
  },
  {
   "cell_type": "code",
   "execution_count": 88,
   "metadata": {},
   "outputs": [],
   "source": [
    "from keras.layers import Lambda, Input, Dense\n",
    "from keras.models import Model\n",
    "from keras.datasets import mnist\n",
    "from keras.losses import mse, binary_crossentropy\n",
    "from keras.utils import plot_model\n",
    "from keras import backend as K\n",
    "import numpy as np\n",
    "import matplotlib.pyplot as plt\n",
    "import argparse\n",
    "import os"
   ]
  },
  {
   "cell_type": "code",
   "execution_count": 98,
   "metadata": {},
   "outputs": [
    {
     "name": "stdout",
     "output_type": "stream",
     "text": [
      "(60000, 784)\n",
      "(10000, 784)\n"
     ]
    }
   ],
   "source": [
    "# 导入数据\n",
    "(x_train, y_train), (x_test, y_test) = mnist.load_data()\n",
    "image_size = x_train.shape[1]   # x_train.shape = (60000, 28, 28)\n",
    "original_dim = image_size * image_size\n",
    "x_train = np.reshape(x_train, [-1, original_dim])\n",
    "x_test = np.reshape(x_test, [-1, original_dim])\n",
    "x_train = x_train.astype('float32') / 255\n",
    "x_test = x_test.astype('float32') / 255\n",
    "print(x_train.shape)\n",
    "print(x_test.shape)"
   ]
  },
  {
   "cell_type": "markdown",
   "metadata": {},
   "source": [
    "* `numpy.reshape`在不改变数据的情况下改变数组的维度，使用方法如下：numpy.reshape(a, newshape, order='C')    \n",
    "参数：\n",
    "* `a` : 是一个数组\n",
    "            代表要被转换的数组   \n",
    "* `newshape` : int型或int型组成的元组     \n",
    "            新的维度应该和数组原来的维度相兼容。如果新的维度是用一个整数表示，那么将返回该整数长度的一维数组。当然维度也可以用-1代替，               如果这样的话，系统根据原来数组的长度推理出新的维度。    \n",
    "* `order ` : {‘C’, ‘F’, ‘A’}, 可选参数\n",
    "```python\n",
    ">>> a = np.arange(6).reshape((3, 2))\n",
    ">>> a\n",
    "array([[0, 1],\n",
    "       [2, 3],\n",
    "       [4, 5]])\n",
    ">>> np.reshape(a, (2, 3)) # C-like index ordering\n",
    "array([[0, 1, 2],\n",
    "       [3, 4, 5]])\n",
    ">>> np.reshape(np.ravel(a), (2, 3)) # equivalent to C ravel then C reshape\n",
    "array([[0, 1, 2],\n",
    "       [3, 4, 5]])\n",
    ">>> np.reshape(a, (2, 3), order='F') # Fortran-like index ordering\n",
    "array([[0, 4, 3],\n",
    "       [2, 1, 5]])\n",
    ">>> np.reshape(np.ravel(a, order='F'), (2, 3), order='F')\n",
    "array([[0, 4, 3],\n",
    "       [2, 1, 5]])\n",
    "```"
   ]
  },
  {
   "cell_type": "code",
   "execution_count": 99,
   "metadata": {},
   "outputs": [],
   "source": [
    "# 重参数化技巧\n",
    "# 不是通过Q(z|X)进行采样, 样本分布服从N(0,I)\n",
    "# z = z_mean + sqrt(var) * epsilon\n",
    "def sampling(args):\n",
    "    \"\"\"\n",
    "    通过从独立同分布的高斯分布中进行采样从而实现重参数化\n",
    "    参数：\n",
    "        args (张量): Q(z|X)的方差的均值以及对数\n",
    "    返回：\n",
    "        z (张量): 采样后的隐向量\n",
    "    \"\"\"\n",
    "    z_mean, z_log_var = args\n",
    "    batch = K.shape(z_mean)[0]\n",
    "    dim = K.int_shape(z_mean)[1]\n",
    "    # 默认情况下，random_normal 是 mean = 0 and std = 1.0\n",
    "    epsilon = K.random_normal(shape=(batch, dim))\n",
    "    return z_mean + K.exp(0.5 * z_log_var) * epsilon"
   ]
  },
  {
   "cell_type": "code",
   "execution_count": 100,
   "metadata": {
    "scrolled": true
   },
   "outputs": [
    {
     "name": "stdout",
     "output_type": "stream",
     "text": [
      "Model: \"encoder\"\n",
      "__________________________________________________________________________________________________\n",
      "Layer (type)                    Output Shape         Param #     Connected to                     \n",
      "==================================================================================================\n",
      "encoder_input (InputLayer)      (None, 784)          0                                            \n",
      "__________________________________________________________________________________________________\n",
      "dense_32 (Dense)                (None, 512)          401920      encoder_input[0][0]              \n",
      "__________________________________________________________________________________________________\n",
      "z_mean (Dense)                  (None, 2)            1026        dense_32[0][0]                   \n",
      "__________________________________________________________________________________________________\n",
      "z_log_var (Dense)               (None, 2)            1026        dense_32[0][0]                   \n",
      "__________________________________________________________________________________________________\n",
      "z (Lambda)                      (None, 2)            0           z_mean[0][0]                     \n",
      "                                                                 z_log_var[0][0]                  \n",
      "==================================================================================================\n",
      "Total params: 403,972\n",
      "Trainable params: 403,972\n",
      "Non-trainable params: 0\n",
      "__________________________________________________________________________________________________\n",
      "Model: \"decoder\"\n",
      "_________________________________________________________________\n",
      "Layer (type)                 Output Shape              Param #   \n",
      "=================================================================\n",
      "z_sampling (InputLayer)      (None, 2)                 0         \n",
      "_________________________________________________________________\n",
      "dense_33 (Dense)             (None, 512)               1536      \n",
      "_________________________________________________________________\n",
      "dense_34 (Dense)             (None, 784)               402192    \n",
      "=================================================================\n",
      "Total params: 403,728\n",
      "Trainable params: 403,728\n",
      "Non-trainable params: 0\n",
      "_________________________________________________________________\n"
     ]
    }
   ],
   "source": [
    "# 构建网络\n",
    "## 网络参数\n",
    "input_shape = (original_dim, )    # 输入层神经元个数\n",
    "intermediate_dim = 512            # 中间层神经元个数\n",
    "batch_size = 128\n",
    "latent_dim = 2                    # 隐空间神经元个数\n",
    "epochs = 50\n",
    "## 变分自动编码器 = 编码器 + 解码器\n",
    "\n",
    "## 构建编码器模型\n",
    "inputs = Input(shape=input_shape, name='encoder_input')\n",
    "x = Dense(intermediate_dim, activation='relu')(inputs)\n",
    "z_mean = Dense(latent_dim, name='z_mean')(x)\n",
    "z_log_var = Dense(latent_dim, name='z_log_var')(x)\n",
    "## 使用重参数化技巧将采样输出作为输入\n",
    "## 注意：\"output_shape\" 对于TensorFlow作为后端不是必要参数\n",
    "## keras.layers.core.Lambda(function, output_shape=None, mask=None, arguments=None)\n",
    "## Lambda函数接受两个参数，第一个是输入张量对输出张量的映射函数，第二个是输入的shape对输出的shape的映射函数。function：要实现的函数，该函数仅接受一个变量，即上一层的输出\n",
    "z = Lambda(sampling, output_shape=(latent_dim,), name='z')([z_mean, z_log_var])\n",
    "## 实例化编码模型\n",
    "encoder = Model(inputs, [z_mean, z_log_var, z], name='encoder')\n",
    "encoder.summary()\n",
    "#plot_model(encoder, to_file='vae_mlp_encoder.png', show_shapes=True)  # 保存编码模型结构图\n",
    "\n",
    "# 构建解码器模型\n",
    "latent_inputs = Input(shape=(latent_dim,), name='z_sampling')\n",
    "x = Dense(intermediate_dim, activation='relu')(latent_inputs)\n",
    "outputs = Dense(original_dim, activation='sigmoid')(x)\n",
    "## 实例化解码模型\n",
    "decoder = Model(latent_inputs, outputs, name='decoder')\n",
    "decoder.summary()\n",
    "#plot_model(decoder, to_file='vae_mlp_decoder.png', show_shapes=True)  # 保存解码模型结构图\n",
    "\n",
    "## 实例化变分自动编码器模型\n",
    "outputs = decoder(encoder(inputs)[2])\n",
    "vae = Model(inputs, outputs, name='vae_mlp')"
   ]
  },
  {
   "cell_type": "code",
   "execution_count": 101,
   "metadata": {
    "scrolled": true
   },
   "outputs": [
    {
     "name": "stderr",
     "output_type": "stream",
     "text": [
      "D:\\Users\\wuzhe\\Anaconda3\\envs\\tensorflow\\lib\\site-packages\\keras\\engine\\training_utils.py:819: UserWarning: Output decoder missing from loss dictionary. We assume this was done on purpose. The fit and evaluate APIs will not be expecting any data to be passed to decoder.\n",
      "  'be expecting any data to be passed to {0}.'.format(name))\n"
     ]
    },
    {
     "name": "stdout",
     "output_type": "stream",
     "text": [
      "Model: \"vae_mlp\"\n",
      "_________________________________________________________________\n",
      "Layer (type)                 Output Shape              Param #   \n",
      "=================================================================\n",
      "encoder_input (InputLayer)   (None, 784)               0         \n",
      "_________________________________________________________________\n",
      "encoder (Model)              [(None, 2), (None, 2), (N 403972    \n",
      "_________________________________________________________________\n",
      "decoder (Model)              (None, 784)               403728    \n",
      "=================================================================\n",
      "Total params: 807,700\n",
      "Trainable params: 807,700\n",
      "Non-trainable params: 0\n",
      "_________________________________________________________________\n",
      "Train on 60000 samples, validate on 10000 samples\n",
      "Epoch 1/50\n",
      "60000/60000 [==============================] - 20s 337us/step - loss: 198.1813 - val_loss: 173.7917\n",
      "Epoch 2/50\n",
      "60000/60000 [==============================] - 20s 334us/step - loss: 169.6358 - val_loss: 167.0659\n",
      "Epoch 3/50\n",
      "60000/60000 [==============================] - 20s 339us/step - loss: 165.5093 - val_loss: 164.5754\n",
      "Epoch 4/50\n",
      "60000/60000 [==============================] - 17s 284us/step - loss: 163.1372 - val_loss: 162.3882\n",
      "Epoch 5/50\n",
      "60000/60000 [==============================] - 16s 274us/step - loss: 161.3370 - val_loss: 160.8164\n",
      "Epoch 6/50\n",
      "60000/60000 [==============================] - 18s 305us/step - loss: 159.7880 - val_loss: 159.6560\n",
      "Epoch 7/50\n",
      "60000/60000 [==============================] - 17s 276us/step - loss: 158.5038 - val_loss: 158.6953\n",
      "Epoch 8/50\n",
      "60000/60000 [==============================] - 17s 290us/step - loss: 157.4227 - val_loss: 157.3828\n",
      "Epoch 9/50\n",
      "60000/60000 [==============================] - 25s 413us/step - loss: 156.4780 - val_loss: 156.7182\n",
      "Epoch 10/50\n",
      "60000/60000 [==============================] - 25s 410us/step - loss: 155.6876 - val_loss: 156.0863ETA: 1s - lo\n",
      "Epoch 11/50\n",
      "60000/60000 [==============================] - 20s 334us/step - loss: 154.9731 - val_loss: 155.3551\n",
      "Epoch 12/50\n",
      "60000/60000 [==============================] - 19s 316us/step - loss: 154.3086 - val_loss: 154.8938\n",
      "Epoch 13/50\n",
      "60000/60000 [==============================] - 18s 299us/step - loss: 153.7498 - val_loss: 154.2236\n",
      "Epoch 14/50\n",
      "60000/60000 [==============================] - 18s 298us/step - loss: 153.3052 - val_loss: 154.1572\n",
      "Epoch 15/50\n",
      "60000/60000 [==============================] - 23s 379us/step - loss: 152.7919 - val_loss: 153.7934\n",
      "Epoch 16/50\n",
      "60000/60000 [==============================] - 21s 352us/step - loss: 152.4020 - val_loss: 153.7954\n",
      "Epoch 17/50\n",
      "60000/60000 [==============================] - 19s 311us/step - loss: 152.0216 - val_loss: 153.0626\n",
      "Epoch 18/50\n",
      "60000/60000 [==============================] - 20s 338us/step - loss: 151.6373 - val_loss: 152.9138\n",
      "Epoch 19/50\n",
      "60000/60000 [==============================] - 19s 314us/step - loss: 151.3005 - val_loss: 152.8137\n",
      "Epoch 20/50\n",
      "60000/60000 [==============================] - 23s 387us/step - loss: 150.9719 - val_loss: 152.2239\n",
      "Epoch 21/50\n",
      "60000/60000 [==============================] - 22s 362us/step - loss: 150.6824 - val_loss: 152.1279\n",
      "Epoch 22/50\n",
      "60000/60000 [==============================] - 18s 303us/step - loss: 150.4686 - val_loss: 151.9916\n",
      "Epoch 23/50\n",
      "60000/60000 [==============================] - 18s 304us/step - loss: 150.1653 - val_loss: 152.0260\n",
      "Epoch 24/50\n",
      "60000/60000 [==============================] - 18s 299us/step - loss: 149.9625 - val_loss: 151.5872\n",
      "Epoch 25/50\n",
      "60000/60000 [==============================] - 25s 409us/step - loss: 149.6764 - val_loss: 151.6626\n",
      "Epoch 26/50\n",
      "60000/60000 [==============================] - 21s 349us/step - loss: 149.5311 - val_loss: 151.4104\n",
      "Epoch 27/50\n",
      "60000/60000 [==============================] - 18s 304us/step - loss: 149.3136 - val_loss: 151.1787\n",
      "Epoch 28/50\n",
      "60000/60000 [==============================] - 18s 294us/step - loss: 149.0866 - val_loss: 151.4051\n",
      "Epoch 29/50\n",
      "60000/60000 [==============================] - 18s 295us/step - loss: 148.8620 - val_loss: 151.0862\n",
      "Epoch 30/50\n",
      "60000/60000 [==============================] - 20s 325us/step - loss: 148.6924 - val_loss: 151.0929\n",
      "Epoch 31/50\n",
      "60000/60000 [==============================] - 22s 372us/step - loss: 148.4893 - val_loss: 151.0002\n",
      "Epoch 32/50\n",
      "60000/60000 [==============================] - 23s 389us/step - loss: 148.3695 - val_loss: 151.0476\n",
      "Epoch 33/50\n",
      "60000/60000 [==============================] - 24s 392us/step - loss: 148.1944 - val_loss: 150.6751\n",
      "Epoch 34/50\n",
      "60000/60000 [==============================] - 22s 365us/step - loss: 148.0741 - val_loss: 150.6203\n",
      "Epoch 35/50\n",
      "60000/60000 [==============================] - 21s 351us/step - loss: 147.8914 - val_loss: 150.5298\n",
      "Epoch 36/50\n",
      "60000/60000 [==============================] - 21s 349us/step - loss: 147.7602 - val_loss: 150.3341\n",
      "Epoch 37/50\n",
      "60000/60000 [==============================] - 19s 325us/step - loss: 147.6470 - val_loss: 150.5905\n",
      "Epoch 38/50\n",
      "60000/60000 [==============================] - 18s 305us/step - loss: 147.4641 - val_loss: 150.3550\n",
      "Epoch 39/50\n",
      "60000/60000 [==============================] - 19s 320us/step - loss: 147.3116 - val_loss: 150.2918\n",
      "Epoch 40/50\n",
      "60000/60000 [==============================] - 15s 253us/step - loss: 147.2045 - val_loss: 150.1594\n",
      "Epoch 41/50\n",
      "60000/60000 [==============================] - 20s 335us/step - loss: 147.0696 - val_loss: 150.4159\n",
      "Epoch 42/50\n",
      "60000/60000 [==============================] - 17s 289us/step - loss: 147.0283 - val_loss: 150.4304\n",
      "Epoch 43/50\n",
      "60000/60000 [==============================] - 23s 391us/step - loss: 146.8668 - val_loss: 150.1457\n",
      "Epoch 44/50\n",
      "60000/60000 [==============================] - 18s 305us/step - loss: 146.7646 - val_loss: 150.1243\n",
      "Epoch 45/50\n",
      "60000/60000 [==============================] - 21s 356us/step - loss: 146.6294 - val_loss: 149.9338\n",
      "Epoch 46/50\n",
      "60000/60000 [==============================] - 16s 266us/step - loss: 146.5276 - val_loss: 150.0729\n",
      "Epoch 47/50\n",
      "60000/60000 [==============================] - 18s 295us/step - loss: 146.4229 - val_loss: 150.4103\n",
      "Epoch 48/50\n",
      "60000/60000 [==============================] - 22s 369us/step - loss: 146.3780 - val_loss: 150.0512\n",
      "Epoch 49/50\n",
      "60000/60000 [==============================] - 21s 346us/step - loss: 146.2620 - val_loss: 149.8959\n",
      "Epoch 50/50\n",
      "60000/60000 [==============================] - 21s 354us/step - loss: 146.1675 - val_loss: 149.7258\n"
     ]
    },
    {
     "data": {
      "text/plain": [
       "<keras.callbacks.callbacks.History at 0x21babd54c50>"
      ]
     },
     "execution_count": 101,
     "metadata": {},
     "output_type": "execute_result"
    }
   ],
   "source": [
    "# VAE loss = mse_loss or xent_loss + kl_loss\n",
    "reconstruction_loss = binary_crossentropy(inputs, outputs)\n",
    "reconstruction_loss *= original_dim\n",
    "kl_loss = 1 + z_log_var - K.square(z_mean) - K.exp(z_log_var)\n",
    "kl_loss = K.sum(kl_loss, axis=-1)\n",
    "kl_loss *= -0.5\n",
    "vae_loss = K.mean(reconstruction_loss + kl_loss)\n",
    "vae.add_loss(vae_loss)\n",
    "vae.compile(optimizer='adam')\n",
    "vae.summary()\n",
    "# plot_model(vae, to_file='vae_mlp.png', show_shapes=True)  # 绘制变分自动编码器模型\n",
    "vae.fit(x_train, epochs=epochs, batch_size=batch_size, validation_data=(x_test, None))"
   ]
  },
  {
   "cell_type": "code",
   "execution_count": 105,
   "metadata": {},
   "outputs": [
    {
     "data": {
      "image/png": "[encoded data removed]",
      "text/plain": [
       "<Figure size 1440x288 with 20 Axes>"
      ]
     },
     "metadata": {
      "needs_background": "light"
     },
     "output_type": "display_data"
    }
   ],
   "source": [
    "decoded_imgs = vae.predict(x_test)\n",
    "n = 10\n",
    "plt.figure(figsize=(20, 4))\n",
    "for i in range(n):\n",
    "    # 对原始数据进行可视化\n",
    "    ax = plt.subplot(2, n, i + 1)\n",
    "    plt.imshow(x_test[i].reshape(28, 28))\n",
    "    plt.gray()\n",
    "    ax.get_xaxis().set_visible(False)\n",
    "    ax.get_yaxis().set_visible(False)\n",
    "\n",
    "    # 重构图片可视化\n",
    "    ax = plt.subplot(2, n, i + n + 1)\n",
    "    plt.imshow(decoded_imgs[i].reshape(28, 28))\n",
    "    plt.gray()\n",
    "    ax.get_xaxis().set_visible(False)\n",
    "    ax.get_yaxis().set_visible(False)\n",
    "plt.show()"
   ]
  },
  {
   "cell_type": "markdown",
   "metadata": {},
   "source": [
    "## 参考文献\n",
    "[1] [Why does unsupervised pre-training help deep learning?](http://www.jmlr.org/papers/volume11/erhan10a/erhan10a.pdf)     \n",
    "[2] [Batch normalization: Accelerating deep network training by reducing internal covariate shift.](https://arxiv.org/abs/1502.03167)     \n",
    "[3] [Deep Residual Learning for Image Recognition](https://arxiv.org/abs/1512.03385)     \n",
    "[4] [Auto-Encoding Variational Bayes](https://arxiv.org/abs/1312.6114)     \n",
    "[5] [Building Autoencoders in Keras](https://blog.keras.io/building-autoencoders-in-keras.html)  \n",
    "[6] [Building Autoencoders in Keras cn](https://keras-cn.readthedocs.io/en/latest/legacy/blog/autoencoder/)"
   ]
  }
 ],
 "metadata": {
  "kernelspec": {
   "display_name": "Python (tensorflow)",
   "language": "python",
   "name": "tensorflow"
  },
  "language_info": {
   "codemirror_mode": {
    "name": "ipython",
    "version": 3
   },
   "file_extension": ".py",
   "mimetype": "text/x-python",
   "name": "python",
   "nbconvert_exporter": "python",
   "pygments_lexer": "ipython3",
   "version": "3.6.7"
  },
  "latex_envs": {
   "LaTeX_envs_menu_present": true,
   "autoclose": false,
   "autocomplete": true,
   "bibliofile": "biblio.bib",
   "cite_by": "apalike",
   "current_citInitial": 1,
   "eqLabelWithNumbers": true,
   "eqNumInitial": 1,
   "hotkeys": {
    "equation": "Ctrl-E",
    "itemize": "Ctrl-I"
   },
   "labels_anchors": false,
   "latex_user_defs": false,
   "report_style_numbering": false,
   "user_envs_cfg": false
  },
  "toc": {
   "base_numbering": 1,
   "nav_menu": {},
   "number_sections": true,
   "sideBar": true,
   "skip_h1_title": false,
   "title_cell": "Table of Contents",
   "title_sidebar": "Contents",
   "toc_cell": false,
   "toc_position": {},
   "toc_section_display": true,
   "toc_window_display": false
  }
 },
 "nbformat": 4,
 "nbformat_minor": 2
}
